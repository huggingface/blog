{
  "nbformat": 4,
  "nbformat_minor": 0,
  "metadata": {
    "colab": {
      "name": "Notebook Companion: Embedding-as-a-Service.ipynb",
      "provenance": [],
      "collapsed_sections": []
    },
    "kernelspec": {
      "name": "python3",
      "display_name": "Python 3"
    },
    "language_info": {
      "name": "python"
    },
    "widgets": {
      "application/vnd.jupyter.widget-state+json": {
        "81a71639026d458ebe087cc094b0b77c": {
          "model_module": "@jupyter-widgets/controls",
          "model_name": "HBoxModel",
          "model_module_version": "1.5.0",
          "state": {
            "_dom_classes": [],
            "_model_module": "@jupyter-widgets/controls",
            "_model_module_version": "1.5.0",
            "_model_name": "HBoxModel",
            "_view_count": null,
            "_view_module": "@jupyter-widgets/controls",
            "_view_module_version": "1.5.0",
            "_view_name": "HBoxView",
            "box_style": "",
            "children": [
              "IPY_MODEL_5dd07fbac55347e6a1a6f4da601cd259",
              "IPY_MODEL_435ad89628ed4d48b2b266784d9b4e05",
              "IPY_MODEL_643966fcbd6d41879d5187b6e239aa89"
            ],
            "layout": "IPY_MODEL_84c517348ac34c4398d74a1c913960e6"
          }
        },
        "5dd07fbac55347e6a1a6f4da601cd259": {
          "model_module": "@jupyter-widgets/controls",
          "model_name": "HTMLModel",
          "model_module_version": "1.5.0",
          "state": {
            "_dom_classes": [],
            "_model_module": "@jupyter-widgets/controls",
            "_model_module_version": "1.5.0",
            "_model_name": "HTMLModel",
            "_view_count": null,
            "_view_module": "@jupyter-widgets/controls",
            "_view_module_version": "1.5.0",
            "_view_name": "HTMLView",
            "description": "",
            "description_tooltip": null,
            "layout": "IPY_MODEL_998283bdd9184f2793aded58c9e0fedc",
            "placeholder": "​",
            "style": "IPY_MODEL_5ffd82a6a8bd4b9a9f35ef1fd2618bfd",
            "value": "Downloading data files: 100%"
          }
        },
        "435ad89628ed4d48b2b266784d9b4e05": {
          "model_module": "@jupyter-widgets/controls",
          "model_name": "FloatProgressModel",
          "model_module_version": "1.5.0",
          "state": {
            "_dom_classes": [],
            "_model_module": "@jupyter-widgets/controls",
            "_model_module_version": "1.5.0",
            "_model_name": "FloatProgressModel",
            "_view_count": null,
            "_view_module": "@jupyter-widgets/controls",
            "_view_module_version": "1.5.0",
            "_view_name": "ProgressView",
            "bar_style": "success",
            "description": "",
            "description_tooltip": null,
            "layout": "IPY_MODEL_e959e03b794a48198608f583b3528695",
            "max": 1,
            "min": 0,
            "orientation": "horizontal",
            "style": "IPY_MODEL_bb1b23c00b3847b082a7ae23c8436f4f",
            "value": 1
          }
        },
        "643966fcbd6d41879d5187b6e239aa89": {
          "model_module": "@jupyter-widgets/controls",
          "model_name": "HTMLModel",
          "model_module_version": "1.5.0",
          "state": {
            "_dom_classes": [],
            "_model_module": "@jupyter-widgets/controls",
            "_model_module_version": "1.5.0",
            "_model_name": "HTMLModel",
            "_view_count": null,
            "_view_module": "@jupyter-widgets/controls",
            "_view_module_version": "1.5.0",
            "_view_name": "HTMLView",
            "description": "",
            "description_tooltip": null,
            "layout": "IPY_MODEL_6b335ce913224237afc03f57966fd987",
            "placeholder": "​",
            "style": "IPY_MODEL_246c94340733487a97cf1c18da69904d",
            "value": " 1/1 [00:00&lt;00:00,  2.20it/s]"
          }
        },
        "84c517348ac34c4398d74a1c913960e6": {
          "model_module": "@jupyter-widgets/base",
          "model_name": "LayoutModel",
          "model_module_version": "1.2.0",
          "state": {
            "_model_module": "@jupyter-widgets/base",
            "_model_module_version": "1.2.0",
            "_model_name": "LayoutModel",
            "_view_count": null,
            "_view_module": "@jupyter-widgets/base",
            "_view_module_version": "1.2.0",
            "_view_name": "LayoutView",
            "align_content": null,
            "align_items": null,
            "align_self": null,
            "border": null,
            "bottom": null,
            "display": null,
            "flex": null,
            "flex_flow": null,
            "grid_area": null,
            "grid_auto_columns": null,
            "grid_auto_flow": null,
            "grid_auto_rows": null,
            "grid_column": null,
            "grid_gap": null,
            "grid_row": null,
            "grid_template_areas": null,
            "grid_template_columns": null,
            "grid_template_rows": null,
            "height": null,
            "justify_content": null,
            "justify_items": null,
            "left": null,
            "margin": null,
            "max_height": null,
            "max_width": null,
            "min_height": null,
            "min_width": null,
            "object_fit": null,
            "object_position": null,
            "order": null,
            "overflow": null,
            "overflow_x": null,
            "overflow_y": null,
            "padding": null,
            "right": null,
            "top": null,
            "visibility": null,
            "width": null
          }
        },
        "998283bdd9184f2793aded58c9e0fedc": {
          "model_module": "@jupyter-widgets/base",
          "model_name": "LayoutModel",
          "model_module_version": "1.2.0",
          "state": {
            "_model_module": "@jupyter-widgets/base",
            "_model_module_version": "1.2.0",
            "_model_name": "LayoutModel",
            "_view_count": null,
            "_view_module": "@jupyter-widgets/base",
            "_view_module_version": "1.2.0",
            "_view_name": "LayoutView",
            "align_content": null,
            "align_items": null,
            "align_self": null,
            "border": null,
            "bottom": null,
            "display": null,
            "flex": null,
            "flex_flow": null,
            "grid_area": null,
            "grid_auto_columns": null,
            "grid_auto_flow": null,
            "grid_auto_rows": null,
            "grid_column": null,
            "grid_gap": null,
            "grid_row": null,
            "grid_template_areas": null,
            "grid_template_columns": null,
            "grid_template_rows": null,
            "height": null,
            "justify_content": null,
            "justify_items": null,
            "left": null,
            "margin": null,
            "max_height": null,
            "max_width": null,
            "min_height": null,
            "min_width": null,
            "object_fit": null,
            "object_position": null,
            "order": null,
            "overflow": null,
            "overflow_x": null,
            "overflow_y": null,
            "padding": null,
            "right": null,
            "top": null,
            "visibility": null,
            "width": null
          }
        },
        "5ffd82a6a8bd4b9a9f35ef1fd2618bfd": {
          "model_module": "@jupyter-widgets/controls",
          "model_name": "DescriptionStyleModel",
          "model_module_version": "1.5.0",
          "state": {
            "_model_module": "@jupyter-widgets/controls",
            "_model_module_version": "1.5.0",
            "_model_name": "DescriptionStyleModel",
            "_view_count": null,
            "_view_module": "@jupyter-widgets/base",
            "_view_module_version": "1.2.0",
            "_view_name": "StyleView",
            "description_width": ""
          }
        },
        "e959e03b794a48198608f583b3528695": {
          "model_module": "@jupyter-widgets/base",
          "model_name": "LayoutModel",
          "model_module_version": "1.2.0",
          "state": {
            "_model_module": "@jupyter-widgets/base",
            "_model_module_version": "1.2.0",
            "_model_name": "LayoutModel",
            "_view_count": null,
            "_view_module": "@jupyter-widgets/base",
            "_view_module_version": "1.2.0",
            "_view_name": "LayoutView",
            "align_content": null,
            "align_items": null,
            "align_self": null,
            "border": null,
            "bottom": null,
            "display": null,
            "flex": null,
            "flex_flow": null,
            "grid_area": null,
            "grid_auto_columns": null,
            "grid_auto_flow": null,
            "grid_auto_rows": null,
            "grid_column": null,
            "grid_gap": null,
            "grid_row": null,
            "grid_template_areas": null,
            "grid_template_columns": null,
            "grid_template_rows": null,
            "height": null,
            "justify_content": null,
            "justify_items": null,
            "left": null,
            "margin": null,
            "max_height": null,
            "max_width": null,
            "min_height": null,
            "min_width": null,
            "object_fit": null,
            "object_position": null,
            "order": null,
            "overflow": null,
            "overflow_x": null,
            "overflow_y": null,
            "padding": null,
            "right": null,
            "top": null,
            "visibility": null,
            "width": null
          }
        },
        "bb1b23c00b3847b082a7ae23c8436f4f": {
          "model_module": "@jupyter-widgets/controls",
          "model_name": "ProgressStyleModel",
          "model_module_version": "1.5.0",
          "state": {
            "_model_module": "@jupyter-widgets/controls",
            "_model_module_version": "1.5.0",
            "_model_name": "ProgressStyleModel",
            "_view_count": null,
            "_view_module": "@jupyter-widgets/base",
            "_view_module_version": "1.2.0",
            "_view_name": "StyleView",
            "bar_color": null,
            "description_width": ""
          }
        },
        "6b335ce913224237afc03f57966fd987": {
          "model_module": "@jupyter-widgets/base",
          "model_name": "LayoutModel",
          "model_module_version": "1.2.0",
          "state": {
            "_model_module": "@jupyter-widgets/base",
            "_model_module_version": "1.2.0",
            "_model_name": "LayoutModel",
            "_view_count": null,
            "_view_module": "@jupyter-widgets/base",
            "_view_module_version": "1.2.0",
            "_view_name": "LayoutView",
            "align_content": null,
            "align_items": null,
            "align_self": null,
            "border": null,
            "bottom": null,
            "display": null,
            "flex": null,
            "flex_flow": null,
            "grid_area": null,
            "grid_auto_columns": null,
            "grid_auto_flow": null,
            "grid_auto_rows": null,
            "grid_column": null,
            "grid_gap": null,
            "grid_row": null,
            "grid_template_areas": null,
            "grid_template_columns": null,
            "grid_template_rows": null,
            "height": null,
            "justify_content": null,
            "justify_items": null,
            "left": null,
            "margin": null,
            "max_height": null,
            "max_width": null,
            "min_height": null,
            "min_width": null,
            "object_fit": null,
            "object_position": null,
            "order": null,
            "overflow": null,
            "overflow_x": null,
            "overflow_y": null,
            "padding": null,
            "right": null,
            "top": null,
            "visibility": null,
            "width": null
          }
        },
        "246c94340733487a97cf1c18da69904d": {
          "model_module": "@jupyter-widgets/controls",
          "model_name": "DescriptionStyleModel",
          "model_module_version": "1.5.0",
          "state": {
            "_model_module": "@jupyter-widgets/controls",
            "_model_module_version": "1.5.0",
            "_model_name": "DescriptionStyleModel",
            "_view_count": null,
            "_view_module": "@jupyter-widgets/base",
            "_view_module_version": "1.2.0",
            "_view_name": "StyleView",
            "description_width": ""
          }
        },
        "292563cf0b6440b3b12602f035187506": {
          "model_module": "@jupyter-widgets/controls",
          "model_name": "HBoxModel",
          "model_module_version": "1.5.0",
          "state": {
            "_dom_classes": [],
            "_model_module": "@jupyter-widgets/controls",
            "_model_module_version": "1.5.0",
            "_model_name": "HBoxModel",
            "_view_count": null,
            "_view_module": "@jupyter-widgets/controls",
            "_view_module_version": "1.5.0",
            "_view_name": "HBoxView",
            "box_style": "",
            "children": [
              "IPY_MODEL_99ec4ab682f24d8d93dd6e20499b67ac",
              "IPY_MODEL_bd216808f2d74ec7a716d36f70911d9f",
              "IPY_MODEL_6050b6030cc34139b074331b35a5a33b"
            ],
            "layout": "IPY_MODEL_5330830a6a7b4120bdf32a8d71ca9dad"
          }
        },
        "99ec4ab682f24d8d93dd6e20499b67ac": {
          "model_module": "@jupyter-widgets/controls",
          "model_name": "HTMLModel",
          "model_module_version": "1.5.0",
          "state": {
            "_dom_classes": [],
            "_model_module": "@jupyter-widgets/controls",
            "_model_module_version": "1.5.0",
            "_model_name": "HTMLModel",
            "_view_count": null,
            "_view_module": "@jupyter-widgets/controls",
            "_view_module_version": "1.5.0",
            "_view_name": "HTMLView",
            "description": "",
            "description_tooltip": null,
            "layout": "IPY_MODEL_f8d24f85b10e4f248dbf60d751a0af1f",
            "placeholder": "​",
            "style": "IPY_MODEL_d5ce90fd81af4bde83ff2283777a3a90",
            "value": "Downloading data: 100%"
          }
        },
        "bd216808f2d74ec7a716d36f70911d9f": {
          "model_module": "@jupyter-widgets/controls",
          "model_name": "FloatProgressModel",
          "model_module_version": "1.5.0",
          "state": {
            "_dom_classes": [],
            "_model_module": "@jupyter-widgets/controls",
            "_model_module_version": "1.5.0",
            "_model_name": "FloatProgressModel",
            "_view_count": null,
            "_view_module": "@jupyter-widgets/controls",
            "_view_module_version": "1.5.0",
            "_view_name": "ProgressView",
            "bar_style": "success",
            "description": "",
            "description_tooltip": null,
            "layout": "IPY_MODEL_ff8ed247d3564333b7ed7677a6385fb1",
            "max": 106049,
            "min": 0,
            "orientation": "horizontal",
            "style": "IPY_MODEL_49bab2ede6dc4e13a0010c53be5d6406",
            "value": 106049
          }
        },
        "6050b6030cc34139b074331b35a5a33b": {
          "model_module": "@jupyter-widgets/controls",
          "model_name": "HTMLModel",
          "model_module_version": "1.5.0",
          "state": {
            "_dom_classes": [],
            "_model_module": "@jupyter-widgets/controls",
            "_model_module_version": "1.5.0",
            "_model_name": "HTMLModel",
            "_view_count": null,
            "_view_module": "@jupyter-widgets/controls",
            "_view_module_version": "1.5.0",
            "_view_name": "HTMLView",
            "description": "",
            "description_tooltip": null,
            "layout": "IPY_MODEL_4f1c326e7d29476ca2aeeff7606f5a5f",
            "placeholder": "​",
            "style": "IPY_MODEL_77379a842c8b41018d96d91703f5117d",
            "value": " 106k/106k [00:00&lt;00:00, 877kB/s]"
          }
        },
        "5330830a6a7b4120bdf32a8d71ca9dad": {
          "model_module": "@jupyter-widgets/base",
          "model_name": "LayoutModel",
          "model_module_version": "1.2.0",
          "state": {
            "_model_module": "@jupyter-widgets/base",
            "_model_module_version": "1.2.0",
            "_model_name": "LayoutModel",
            "_view_count": null,
            "_view_module": "@jupyter-widgets/base",
            "_view_module_version": "1.2.0",
            "_view_name": "LayoutView",
            "align_content": null,
            "align_items": null,
            "align_self": null,
            "border": null,
            "bottom": null,
            "display": null,
            "flex": null,
            "flex_flow": null,
            "grid_area": null,
            "grid_auto_columns": null,
            "grid_auto_flow": null,
            "grid_auto_rows": null,
            "grid_column": null,
            "grid_gap": null,
            "grid_row": null,
            "grid_template_areas": null,
            "grid_template_columns": null,
            "grid_template_rows": null,
            "height": null,
            "justify_content": null,
            "justify_items": null,
            "left": null,
            "margin": null,
            "max_height": null,
            "max_width": null,
            "min_height": null,
            "min_width": null,
            "object_fit": null,
            "object_position": null,
            "order": null,
            "overflow": null,
            "overflow_x": null,
            "overflow_y": null,
            "padding": null,
            "right": null,
            "top": null,
            "visibility": null,
            "width": null
          }
        },
        "f8d24f85b10e4f248dbf60d751a0af1f": {
          "model_module": "@jupyter-widgets/base",
          "model_name": "LayoutModel",
          "model_module_version": "1.2.0",
          "state": {
            "_model_module": "@jupyter-widgets/base",
            "_model_module_version": "1.2.0",
            "_model_name": "LayoutModel",
            "_view_count": null,
            "_view_module": "@jupyter-widgets/base",
            "_view_module_version": "1.2.0",
            "_view_name": "LayoutView",
            "align_content": null,
            "align_items": null,
            "align_self": null,
            "border": null,
            "bottom": null,
            "display": null,
            "flex": null,
            "flex_flow": null,
            "grid_area": null,
            "grid_auto_columns": null,
            "grid_auto_flow": null,
            "grid_auto_rows": null,
            "grid_column": null,
            "grid_gap": null,
            "grid_row": null,
            "grid_template_areas": null,
            "grid_template_columns": null,
            "grid_template_rows": null,
            "height": null,
            "justify_content": null,
            "justify_items": null,
            "left": null,
            "margin": null,
            "max_height": null,
            "max_width": null,
            "min_height": null,
            "min_width": null,
            "object_fit": null,
            "object_position": null,
            "order": null,
            "overflow": null,
            "overflow_x": null,
            "overflow_y": null,
            "padding": null,
            "right": null,
            "top": null,
            "visibility": null,
            "width": null
          }
        },
        "d5ce90fd81af4bde83ff2283777a3a90": {
          "model_module": "@jupyter-widgets/controls",
          "model_name": "DescriptionStyleModel",
          "model_module_version": "1.5.0",
          "state": {
            "_model_module": "@jupyter-widgets/controls",
            "_model_module_version": "1.5.0",
            "_model_name": "DescriptionStyleModel",
            "_view_count": null,
            "_view_module": "@jupyter-widgets/base",
            "_view_module_version": "1.2.0",
            "_view_name": "StyleView",
            "description_width": ""
          }
        },
        "ff8ed247d3564333b7ed7677a6385fb1": {
          "model_module": "@jupyter-widgets/base",
          "model_name": "LayoutModel",
          "model_module_version": "1.2.0",
          "state": {
            "_model_module": "@jupyter-widgets/base",
            "_model_module_version": "1.2.0",
            "_model_name": "LayoutModel",
            "_view_count": null,
            "_view_module": "@jupyter-widgets/base",
            "_view_module_version": "1.2.0",
            "_view_name": "LayoutView",
            "align_content": null,
            "align_items": null,
            "align_self": null,
            "border": null,
            "bottom": null,
            "display": null,
            "flex": null,
            "flex_flow": null,
            "grid_area": null,
            "grid_auto_columns": null,
            "grid_auto_flow": null,
            "grid_auto_rows": null,
            "grid_column": null,
            "grid_gap": null,
            "grid_row": null,
            "grid_template_areas": null,
            "grid_template_columns": null,
            "grid_template_rows": null,
            "height": null,
            "justify_content": null,
            "justify_items": null,
            "left": null,
            "margin": null,
            "max_height": null,
            "max_width": null,
            "min_height": null,
            "min_width": null,
            "object_fit": null,
            "object_position": null,
            "order": null,
            "overflow": null,
            "overflow_x": null,
            "overflow_y": null,
            "padding": null,
            "right": null,
            "top": null,
            "visibility": null,
            "width": null
          }
        },
        "49bab2ede6dc4e13a0010c53be5d6406": {
          "model_module": "@jupyter-widgets/controls",
          "model_name": "ProgressStyleModel",
          "model_module_version": "1.5.0",
          "state": {
            "_model_module": "@jupyter-widgets/controls",
            "_model_module_version": "1.5.0",
            "_model_name": "ProgressStyleModel",
            "_view_count": null,
            "_view_module": "@jupyter-widgets/base",
            "_view_module_version": "1.2.0",
            "_view_name": "StyleView",
            "bar_color": null,
            "description_width": ""
          }
        },
        "4f1c326e7d29476ca2aeeff7606f5a5f": {
          "model_module": "@jupyter-widgets/base",
          "model_name": "LayoutModel",
          "model_module_version": "1.2.0",
          "state": {
            "_model_module": "@jupyter-widgets/base",
            "_model_module_version": "1.2.0",
            "_model_name": "LayoutModel",
            "_view_count": null,
            "_view_module": "@jupyter-widgets/base",
            "_view_module_version": "1.2.0",
            "_view_name": "LayoutView",
            "align_content": null,
            "align_items": null,
            "align_self": null,
            "border": null,
            "bottom": null,
            "display": null,
            "flex": null,
            "flex_flow": null,
            "grid_area": null,
            "grid_auto_columns": null,
            "grid_auto_flow": null,
            "grid_auto_rows": null,
            "grid_column": null,
            "grid_gap": null,
            "grid_row": null,
            "grid_template_areas": null,
            "grid_template_columns": null,
            "grid_template_rows": null,
            "height": null,
            "justify_content": null,
            "justify_items": null,
            "left": null,
            "margin": null,
            "max_height": null,
            "max_width": null,
            "min_height": null,
            "min_width": null,
            "object_fit": null,
            "object_position": null,
            "order": null,
            "overflow": null,
            "overflow_x": null,
            "overflow_y": null,
            "padding": null,
            "right": null,
            "top": null,
            "visibility": null,
            "width": null
          }
        },
        "77379a842c8b41018d96d91703f5117d": {
          "model_module": "@jupyter-widgets/controls",
          "model_name": "DescriptionStyleModel",
          "model_module_version": "1.5.0",
          "state": {
            "_model_module": "@jupyter-widgets/controls",
            "_model_module_version": "1.5.0",
            "_model_name": "DescriptionStyleModel",
            "_view_count": null,
            "_view_module": "@jupyter-widgets/base",
            "_view_module_version": "1.2.0",
            "_view_name": "StyleView",
            "description_width": ""
          }
        },
        "70056e18155a47b08f4402ea6da54080": {
          "model_module": "@jupyter-widgets/controls",
          "model_name": "HBoxModel",
          "model_module_version": "1.5.0",
          "state": {
            "_dom_classes": [],
            "_model_module": "@jupyter-widgets/controls",
            "_model_module_version": "1.5.0",
            "_model_name": "HBoxModel",
            "_view_count": null,
            "_view_module": "@jupyter-widgets/controls",
            "_view_module_version": "1.5.0",
            "_view_name": "HBoxView",
            "box_style": "",
            "children": [
              "IPY_MODEL_3db9207ccf6c4395bc78324f3d5e5c83",
              "IPY_MODEL_58d4a47693bf40f6be19354531de5ef6",
              "IPY_MODEL_973c59bf110b401b82500a9f0ae7e319"
            ],
            "layout": "IPY_MODEL_9ba9d957d81e471abedf2999661321fe"
          }
        },
        "3db9207ccf6c4395bc78324f3d5e5c83": {
          "model_module": "@jupyter-widgets/controls",
          "model_name": "HTMLModel",
          "model_module_version": "1.5.0",
          "state": {
            "_dom_classes": [],
            "_model_module": "@jupyter-widgets/controls",
            "_model_module_version": "1.5.0",
            "_model_name": "HTMLModel",
            "_view_count": null,
            "_view_module": "@jupyter-widgets/controls",
            "_view_module_version": "1.5.0",
            "_view_name": "HTMLView",
            "description": "",
            "description_tooltip": null,
            "layout": "IPY_MODEL_03fe59cdf3fa4f1bbcecbb602b7b1bdd",
            "placeholder": "​",
            "style": "IPY_MODEL_9a559929820649369ecac3b2b0ee3aef",
            "value": "Extracting data files: 100%"
          }
        },
        "58d4a47693bf40f6be19354531de5ef6": {
          "model_module": "@jupyter-widgets/controls",
          "model_name": "FloatProgressModel",
          "model_module_version": "1.5.0",
          "state": {
            "_dom_classes": [],
            "_model_module": "@jupyter-widgets/controls",
            "_model_module_version": "1.5.0",
            "_model_name": "FloatProgressModel",
            "_view_count": null,
            "_view_module": "@jupyter-widgets/controls",
            "_view_module_version": "1.5.0",
            "_view_name": "ProgressView",
            "bar_style": "success",
            "description": "",
            "description_tooltip": null,
            "layout": "IPY_MODEL_c75477e139da4a1c942b5dc0e3b48ed6",
            "max": 1,
            "min": 0,
            "orientation": "horizontal",
            "style": "IPY_MODEL_3fa795ecb8714304bbc9da716e1ce9ba",
            "value": 1
          }
        },
        "973c59bf110b401b82500a9f0ae7e319": {
          "model_module": "@jupyter-widgets/controls",
          "model_name": "HTMLModel",
          "model_module_version": "1.5.0",
          "state": {
            "_dom_classes": [],
            "_model_module": "@jupyter-widgets/controls",
            "_model_module_version": "1.5.0",
            "_model_name": "HTMLModel",
            "_view_count": null,
            "_view_module": "@jupyter-widgets/controls",
            "_view_module_version": "1.5.0",
            "_view_name": "HTMLView",
            "description": "",
            "description_tooltip": null,
            "layout": "IPY_MODEL_379efc963859420bad243c17510878af",
            "placeholder": "​",
            "style": "IPY_MODEL_4485682966eb4eb5a83eeadeab44ff96",
            "value": " 1/1 [00:00&lt;00:00, 11.93it/s]"
          }
        },
        "9ba9d957d81e471abedf2999661321fe": {
          "model_module": "@jupyter-widgets/base",
          "model_name": "LayoutModel",
          "model_module_version": "1.2.0",
          "state": {
            "_model_module": "@jupyter-widgets/base",
            "_model_module_version": "1.2.0",
            "_model_name": "LayoutModel",
            "_view_count": null,
            "_view_module": "@jupyter-widgets/base",
            "_view_module_version": "1.2.0",
            "_view_name": "LayoutView",
            "align_content": null,
            "align_items": null,
            "align_self": null,
            "border": null,
            "bottom": null,
            "display": null,
            "flex": null,
            "flex_flow": null,
            "grid_area": null,
            "grid_auto_columns": null,
            "grid_auto_flow": null,
            "grid_auto_rows": null,
            "grid_column": null,
            "grid_gap": null,
            "grid_row": null,
            "grid_template_areas": null,
            "grid_template_columns": null,
            "grid_template_rows": null,
            "height": null,
            "justify_content": null,
            "justify_items": null,
            "left": null,
            "margin": null,
            "max_height": null,
            "max_width": null,
            "min_height": null,
            "min_width": null,
            "object_fit": null,
            "object_position": null,
            "order": null,
            "overflow": null,
            "overflow_x": null,
            "overflow_y": null,
            "padding": null,
            "right": null,
            "top": null,
            "visibility": null,
            "width": null
          }
        },
        "03fe59cdf3fa4f1bbcecbb602b7b1bdd": {
          "model_module": "@jupyter-widgets/base",
          "model_name": "LayoutModel",
          "model_module_version": "1.2.0",
          "state": {
            "_model_module": "@jupyter-widgets/base",
            "_model_module_version": "1.2.0",
            "_model_name": "LayoutModel",
            "_view_count": null,
            "_view_module": "@jupyter-widgets/base",
            "_view_module_version": "1.2.0",
            "_view_name": "LayoutView",
            "align_content": null,
            "align_items": null,
            "align_self": null,
            "border": null,
            "bottom": null,
            "display": null,
            "flex": null,
            "flex_flow": null,
            "grid_area": null,
            "grid_auto_columns": null,
            "grid_auto_flow": null,
            "grid_auto_rows": null,
            "grid_column": null,
            "grid_gap": null,
            "grid_row": null,
            "grid_template_areas": null,
            "grid_template_columns": null,
            "grid_template_rows": null,
            "height": null,
            "justify_content": null,
            "justify_items": null,
            "left": null,
            "margin": null,
            "max_height": null,
            "max_width": null,
            "min_height": null,
            "min_width": null,
            "object_fit": null,
            "object_position": null,
            "order": null,
            "overflow": null,
            "overflow_x": null,
            "overflow_y": null,
            "padding": null,
            "right": null,
            "top": null,
            "visibility": null,
            "width": null
          }
        },
        "9a559929820649369ecac3b2b0ee3aef": {
          "model_module": "@jupyter-widgets/controls",
          "model_name": "DescriptionStyleModel",
          "model_module_version": "1.5.0",
          "state": {
            "_model_module": "@jupyter-widgets/controls",
            "_model_module_version": "1.5.0",
            "_model_name": "DescriptionStyleModel",
            "_view_count": null,
            "_view_module": "@jupyter-widgets/base",
            "_view_module_version": "1.2.0",
            "_view_name": "StyleView",
            "description_width": ""
          }
        },
        "c75477e139da4a1c942b5dc0e3b48ed6": {
          "model_module": "@jupyter-widgets/base",
          "model_name": "LayoutModel",
          "model_module_version": "1.2.0",
          "state": {
            "_model_module": "@jupyter-widgets/base",
            "_model_module_version": "1.2.0",
            "_model_name": "LayoutModel",
            "_view_count": null,
            "_view_module": "@jupyter-widgets/base",
            "_view_module_version": "1.2.0",
            "_view_name": "LayoutView",
            "align_content": null,
            "align_items": null,
            "align_self": null,
            "border": null,
            "bottom": null,
            "display": null,
            "flex": null,
            "flex_flow": null,
            "grid_area": null,
            "grid_auto_columns": null,
            "grid_auto_flow": null,
            "grid_auto_rows": null,
            "grid_column": null,
            "grid_gap": null,
            "grid_row": null,
            "grid_template_areas": null,
            "grid_template_columns": null,
            "grid_template_rows": null,
            "height": null,
            "justify_content": null,
            "justify_items": null,
            "left": null,
            "margin": null,
            "max_height": null,
            "max_width": null,
            "min_height": null,
            "min_width": null,
            "object_fit": null,
            "object_position": null,
            "order": null,
            "overflow": null,
            "overflow_x": null,
            "overflow_y": null,
            "padding": null,
            "right": null,
            "top": null,
            "visibility": null,
            "width": null
          }
        },
        "3fa795ecb8714304bbc9da716e1ce9ba": {
          "model_module": "@jupyter-widgets/controls",
          "model_name": "ProgressStyleModel",
          "model_module_version": "1.5.0",
          "state": {
            "_model_module": "@jupyter-widgets/controls",
            "_model_module_version": "1.5.0",
            "_model_name": "ProgressStyleModel",
            "_view_count": null,
            "_view_module": "@jupyter-widgets/base",
            "_view_module_version": "1.2.0",
            "_view_name": "StyleView",
            "bar_color": null,
            "description_width": ""
          }
        },
        "379efc963859420bad243c17510878af": {
          "model_module": "@jupyter-widgets/base",
          "model_name": "LayoutModel",
          "model_module_version": "1.2.0",
          "state": {
            "_model_module": "@jupyter-widgets/base",
            "_model_module_version": "1.2.0",
            "_model_name": "LayoutModel",
            "_view_count": null,
            "_view_module": "@jupyter-widgets/base",
            "_view_module_version": "1.2.0",
            "_view_name": "LayoutView",
            "align_content": null,
            "align_items": null,
            "align_self": null,
            "border": null,
            "bottom": null,
            "display": null,
            "flex": null,
            "flex_flow": null,
            "grid_area": null,
            "grid_auto_columns": null,
            "grid_auto_flow": null,
            "grid_auto_rows": null,
            "grid_column": null,
            "grid_gap": null,
            "grid_row": null,
            "grid_template_areas": null,
            "grid_template_columns": null,
            "grid_template_rows": null,
            "height": null,
            "justify_content": null,
            "justify_items": null,
            "left": null,
            "margin": null,
            "max_height": null,
            "max_width": null,
            "min_height": null,
            "min_width": null,
            "object_fit": null,
            "object_position": null,
            "order": null,
            "overflow": null,
            "overflow_x": null,
            "overflow_y": null,
            "padding": null,
            "right": null,
            "top": null,
            "visibility": null,
            "width": null
          }
        },
        "4485682966eb4eb5a83eeadeab44ff96": {
          "model_module": "@jupyter-widgets/controls",
          "model_name": "DescriptionStyleModel",
          "model_module_version": "1.5.0",
          "state": {
            "_model_module": "@jupyter-widgets/controls",
            "_model_module_version": "1.5.0",
            "_model_name": "DescriptionStyleModel",
            "_view_count": null,
            "_view_module": "@jupyter-widgets/base",
            "_view_module_version": "1.2.0",
            "_view_name": "StyleView",
            "description_width": ""
          }
        },
        "4e5118cdc1b740aab861cb3bbd59c2ad": {
          "model_module": "@jupyter-widgets/controls",
          "model_name": "HBoxModel",
          "model_module_version": "1.5.0",
          "state": {
            "_dom_classes": [],
            "_model_module": "@jupyter-widgets/controls",
            "_model_module_version": "1.5.0",
            "_model_name": "HBoxModel",
            "_view_count": null,
            "_view_module": "@jupyter-widgets/controls",
            "_view_module_version": "1.5.0",
            "_view_name": "HBoxView",
            "box_style": "",
            "children": [
              "IPY_MODEL_a7128ceb60844ce5b2a58f264b931c0f",
              "IPY_MODEL_8c8aa94063c340c388350b6cf6466a31",
              "IPY_MODEL_9a0627aba00d43ea94619656ae2e5a4f"
            ],
            "layout": "IPY_MODEL_071d0af93b6241db93bd03a6274e6e1c"
          }
        },
        "a7128ceb60844ce5b2a58f264b931c0f": {
          "model_module": "@jupyter-widgets/controls",
          "model_name": "HTMLModel",
          "model_module_version": "1.5.0",
          "state": {
            "_dom_classes": [],
            "_model_module": "@jupyter-widgets/controls",
            "_model_module_version": "1.5.0",
            "_model_name": "HTMLModel",
            "_view_count": null,
            "_view_module": "@jupyter-widgets/controls",
            "_view_module_version": "1.5.0",
            "_view_name": "HTMLView",
            "description": "",
            "description_tooltip": null,
            "layout": "IPY_MODEL_86e48df93b884e15a6d1789b50f02be8",
            "placeholder": "​",
            "style": "IPY_MODEL_76a7afa4d97c4c7ab30f4110ad4e5024",
            "value": ""
          }
        },
        "8c8aa94063c340c388350b6cf6466a31": {
          "model_module": "@jupyter-widgets/controls",
          "model_name": "FloatProgressModel",
          "model_module_version": "1.5.0",
          "state": {
            "_dom_classes": [],
            "_model_module": "@jupyter-widgets/controls",
            "_model_module_version": "1.5.0",
            "_model_name": "FloatProgressModel",
            "_view_count": null,
            "_view_module": "@jupyter-widgets/controls",
            "_view_module_version": "1.5.0",
            "_view_name": "ProgressView",
            "bar_style": "info",
            "description": "",
            "description_tooltip": null,
            "layout": "IPY_MODEL_132a53836a684357bb5bc916870492d7",
            "max": 1,
            "min": 0,
            "orientation": "horizontal",
            "style": "IPY_MODEL_df143862785e483c912e6d403d593440",
            "value": 1
          }
        },
        "9a0627aba00d43ea94619656ae2e5a4f": {
          "model_module": "@jupyter-widgets/controls",
          "model_name": "HTMLModel",
          "model_module_version": "1.5.0",
          "state": {
            "_dom_classes": [],
            "_model_module": "@jupyter-widgets/controls",
            "_model_module_version": "1.5.0",
            "_model_name": "HTMLModel",
            "_view_count": null,
            "_view_module": "@jupyter-widgets/controls",
            "_view_module_version": "1.5.0",
            "_view_name": "HTMLView",
            "description": "",
            "description_tooltip": null,
            "layout": "IPY_MODEL_ffbe660651e948f0ab001b3931677d43",
            "placeholder": "​",
            "style": "IPY_MODEL_fdc1b31771f44806baa9fdd08409cfc5",
            "value": " 1/? [00:00&lt;00:00,  5.29 tables/s]"
          }
        },
        "071d0af93b6241db93bd03a6274e6e1c": {
          "model_module": "@jupyter-widgets/base",
          "model_name": "LayoutModel",
          "model_module_version": "1.2.0",
          "state": {
            "_model_module": "@jupyter-widgets/base",
            "_model_module_version": "1.2.0",
            "_model_name": "LayoutModel",
            "_view_count": null,
            "_view_module": "@jupyter-widgets/base",
            "_view_module_version": "1.2.0",
            "_view_name": "LayoutView",
            "align_content": null,
            "align_items": null,
            "align_self": null,
            "border": null,
            "bottom": null,
            "display": null,
            "flex": null,
            "flex_flow": null,
            "grid_area": null,
            "grid_auto_columns": null,
            "grid_auto_flow": null,
            "grid_auto_rows": null,
            "grid_column": null,
            "grid_gap": null,
            "grid_row": null,
            "grid_template_areas": null,
            "grid_template_columns": null,
            "grid_template_rows": null,
            "height": null,
            "justify_content": null,
            "justify_items": null,
            "left": null,
            "margin": null,
            "max_height": null,
            "max_width": null,
            "min_height": null,
            "min_width": null,
            "object_fit": null,
            "object_position": null,
            "order": null,
            "overflow": null,
            "overflow_x": null,
            "overflow_y": null,
            "padding": null,
            "right": null,
            "top": null,
            "visibility": null,
            "width": null
          }
        },
        "86e48df93b884e15a6d1789b50f02be8": {
          "model_module": "@jupyter-widgets/base",
          "model_name": "LayoutModel",
          "model_module_version": "1.2.0",
          "state": {
            "_model_module": "@jupyter-widgets/base",
            "_model_module_version": "1.2.0",
            "_model_name": "LayoutModel",
            "_view_count": null,
            "_view_module": "@jupyter-widgets/base",
            "_view_module_version": "1.2.0",
            "_view_name": "LayoutView",
            "align_content": null,
            "align_items": null,
            "align_self": null,
            "border": null,
            "bottom": null,
            "display": null,
            "flex": null,
            "flex_flow": null,
            "grid_area": null,
            "grid_auto_columns": null,
            "grid_auto_flow": null,
            "grid_auto_rows": null,
            "grid_column": null,
            "grid_gap": null,
            "grid_row": null,
            "grid_template_areas": null,
            "grid_template_columns": null,
            "grid_template_rows": null,
            "height": null,
            "justify_content": null,
            "justify_items": null,
            "left": null,
            "margin": null,
            "max_height": null,
            "max_width": null,
            "min_height": null,
            "min_width": null,
            "object_fit": null,
            "object_position": null,
            "order": null,
            "overflow": null,
            "overflow_x": null,
            "overflow_y": null,
            "padding": null,
            "right": null,
            "top": null,
            "visibility": null,
            "width": null
          }
        },
        "76a7afa4d97c4c7ab30f4110ad4e5024": {
          "model_module": "@jupyter-widgets/controls",
          "model_name": "DescriptionStyleModel",
          "model_module_version": "1.5.0",
          "state": {
            "_model_module": "@jupyter-widgets/controls",
            "_model_module_version": "1.5.0",
            "_model_name": "DescriptionStyleModel",
            "_view_count": null,
            "_view_module": "@jupyter-widgets/base",
            "_view_module_version": "1.2.0",
            "_view_name": "StyleView",
            "description_width": ""
          }
        },
        "132a53836a684357bb5bc916870492d7": {
          "model_module": "@jupyter-widgets/base",
          "model_name": "LayoutModel",
          "model_module_version": "1.2.0",
          "state": {
            "_model_module": "@jupyter-widgets/base",
            "_model_module_version": "1.2.0",
            "_model_name": "LayoutModel",
            "_view_count": null,
            "_view_module": "@jupyter-widgets/base",
            "_view_module_version": "1.2.0",
            "_view_name": "LayoutView",
            "align_content": null,
            "align_items": null,
            "align_self": null,
            "border": null,
            "bottom": null,
            "display": null,
            "flex": null,
            "flex_flow": null,
            "grid_area": null,
            "grid_auto_columns": null,
            "grid_auto_flow": null,
            "grid_auto_rows": null,
            "grid_column": null,
            "grid_gap": null,
            "grid_row": null,
            "grid_template_areas": null,
            "grid_template_columns": null,
            "grid_template_rows": null,
            "height": null,
            "justify_content": null,
            "justify_items": null,
            "left": null,
            "margin": null,
            "max_height": null,
            "max_width": null,
            "min_height": null,
            "min_width": null,
            "object_fit": null,
            "object_position": null,
            "order": null,
            "overflow": null,
            "overflow_x": null,
            "overflow_y": null,
            "padding": null,
            "right": null,
            "top": null,
            "visibility": null,
            "width": "20px"
          }
        },
        "df143862785e483c912e6d403d593440": {
          "model_module": "@jupyter-widgets/controls",
          "model_name": "ProgressStyleModel",
          "model_module_version": "1.5.0",
          "state": {
            "_model_module": "@jupyter-widgets/controls",
            "_model_module_version": "1.5.0",
            "_model_name": "ProgressStyleModel",
            "_view_count": null,
            "_view_module": "@jupyter-widgets/base",
            "_view_module_version": "1.2.0",
            "_view_name": "StyleView",
            "bar_color": null,
            "description_width": ""
          }
        },
        "ffbe660651e948f0ab001b3931677d43": {
          "model_module": "@jupyter-widgets/base",
          "model_name": "LayoutModel",
          "model_module_version": "1.2.0",
          "state": {
            "_model_module": "@jupyter-widgets/base",
            "_model_module_version": "1.2.0",
            "_model_name": "LayoutModel",
            "_view_count": null,
            "_view_module": "@jupyter-widgets/base",
            "_view_module_version": "1.2.0",
            "_view_name": "LayoutView",
            "align_content": null,
            "align_items": null,
            "align_self": null,
            "border": null,
            "bottom": null,
            "display": null,
            "flex": null,
            "flex_flow": null,
            "grid_area": null,
            "grid_auto_columns": null,
            "grid_auto_flow": null,
            "grid_auto_rows": null,
            "grid_column": null,
            "grid_gap": null,
            "grid_row": null,
            "grid_template_areas": null,
            "grid_template_columns": null,
            "grid_template_rows": null,
            "height": null,
            "justify_content": null,
            "justify_items": null,
            "left": null,
            "margin": null,
            "max_height": null,
            "max_width": null,
            "min_height": null,
            "min_width": null,
            "object_fit": null,
            "object_position": null,
            "order": null,
            "overflow": null,
            "overflow_x": null,
            "overflow_y": null,
            "padding": null,
            "right": null,
            "top": null,
            "visibility": null,
            "width": null
          }
        },
        "fdc1b31771f44806baa9fdd08409cfc5": {
          "model_module": "@jupyter-widgets/controls",
          "model_name": "DescriptionStyleModel",
          "model_module_version": "1.5.0",
          "state": {
            "_model_module": "@jupyter-widgets/controls",
            "_model_module_version": "1.5.0",
            "_model_name": "DescriptionStyleModel",
            "_view_count": null,
            "_view_module": "@jupyter-widgets/base",
            "_view_module_version": "1.2.0",
            "_view_name": "StyleView",
            "description_width": ""
          }
        },
        "91f5fe6e62f94f8bb1bce35a8829ce4d": {
          "model_module": "@jupyter-widgets/controls",
          "model_name": "HBoxModel",
          "model_module_version": "1.5.0",
          "state": {
            "_dom_classes": [],
            "_model_module": "@jupyter-widgets/controls",
            "_model_module_version": "1.5.0",
            "_model_name": "HBoxModel",
            "_view_count": null,
            "_view_module": "@jupyter-widgets/controls",
            "_view_module_version": "1.5.0",
            "_view_name": "HBoxView",
            "box_style": "",
            "children": [
              "IPY_MODEL_7a2f70d56ca7498488b74eb9d49a5571",
              "IPY_MODEL_7d7eeb193a574dbbad98b561b8935026",
              "IPY_MODEL_8334b6e8870440a2902ebbe50b533c8e"
            ],
            "layout": "IPY_MODEL_f7b594e0ec1a42488255fa746a9e836b"
          }
        },
        "7a2f70d56ca7498488b74eb9d49a5571": {
          "model_module": "@jupyter-widgets/controls",
          "model_name": "HTMLModel",
          "model_module_version": "1.5.0",
          "state": {
            "_dom_classes": [],
            "_model_module": "@jupyter-widgets/controls",
            "_model_module_version": "1.5.0",
            "_model_name": "HTMLModel",
            "_view_count": null,
            "_view_module": "@jupyter-widgets/controls",
            "_view_module_version": "1.5.0",
            "_view_name": "HTMLView",
            "description": "",
            "description_tooltip": null,
            "layout": "IPY_MODEL_f54be787b74f461494e6495ad9d1b57f",
            "placeholder": "​",
            "style": "IPY_MODEL_897af0178f9843bbb6081ebc07cfbf4c",
            "value": "100%"
          }
        },
        "7d7eeb193a574dbbad98b561b8935026": {
          "model_module": "@jupyter-widgets/controls",
          "model_name": "FloatProgressModel",
          "model_module_version": "1.5.0",
          "state": {
            "_dom_classes": [],
            "_model_module": "@jupyter-widgets/controls",
            "_model_module_version": "1.5.0",
            "_model_name": "FloatProgressModel",
            "_view_count": null,
            "_view_module": "@jupyter-widgets/controls",
            "_view_module_version": "1.5.0",
            "_view_name": "ProgressView",
            "bar_style": "success",
            "description": "",
            "description_tooltip": null,
            "layout": "IPY_MODEL_b172c04c4d0f4aaeafd455bde1c98c5f",
            "max": 1,
            "min": 0,
            "orientation": "horizontal",
            "style": "IPY_MODEL_fc136aa76e5b47ae8bba59e3e0b3ac05",
            "value": 1
          }
        },
        "8334b6e8870440a2902ebbe50b533c8e": {
          "model_module": "@jupyter-widgets/controls",
          "model_name": "HTMLModel",
          "model_module_version": "1.5.0",
          "state": {
            "_dom_classes": [],
            "_model_module": "@jupyter-widgets/controls",
            "_model_module_version": "1.5.0",
            "_model_name": "HTMLModel",
            "_view_count": null,
            "_view_module": "@jupyter-widgets/controls",
            "_view_module_version": "1.5.0",
            "_view_name": "HTMLView",
            "description": "",
            "description_tooltip": null,
            "layout": "IPY_MODEL_19fe4533e98f44afbc16945302da1c56",
            "placeholder": "​",
            "style": "IPY_MODEL_0972fbf4199a42d7859eee17691b05f3",
            "value": " 1/1 [00:00&lt;00:00,  5.28it/s]"
          }
        },
        "f7b594e0ec1a42488255fa746a9e836b": {
          "model_module": "@jupyter-widgets/base",
          "model_name": "LayoutModel",
          "model_module_version": "1.2.0",
          "state": {
            "_model_module": "@jupyter-widgets/base",
            "_model_module_version": "1.2.0",
            "_model_name": "LayoutModel",
            "_view_count": null,
            "_view_module": "@jupyter-widgets/base",
            "_view_module_version": "1.2.0",
            "_view_name": "LayoutView",
            "align_content": null,
            "align_items": null,
            "align_self": null,
            "border": null,
            "bottom": null,
            "display": null,
            "flex": null,
            "flex_flow": null,
            "grid_area": null,
            "grid_auto_columns": null,
            "grid_auto_flow": null,
            "grid_auto_rows": null,
            "grid_column": null,
            "grid_gap": null,
            "grid_row": null,
            "grid_template_areas": null,
            "grid_template_columns": null,
            "grid_template_rows": null,
            "height": null,
            "justify_content": null,
            "justify_items": null,
            "left": null,
            "margin": null,
            "max_height": null,
            "max_width": null,
            "min_height": null,
            "min_width": null,
            "object_fit": null,
            "object_position": null,
            "order": null,
            "overflow": null,
            "overflow_x": null,
            "overflow_y": null,
            "padding": null,
            "right": null,
            "top": null,
            "visibility": null,
            "width": null
          }
        },
        "f54be787b74f461494e6495ad9d1b57f": {
          "model_module": "@jupyter-widgets/base",
          "model_name": "LayoutModel",
          "model_module_version": "1.2.0",
          "state": {
            "_model_module": "@jupyter-widgets/base",
            "_model_module_version": "1.2.0",
            "_model_name": "LayoutModel",
            "_view_count": null,
            "_view_module": "@jupyter-widgets/base",
            "_view_module_version": "1.2.0",
            "_view_name": "LayoutView",
            "align_content": null,
            "align_items": null,
            "align_self": null,
            "border": null,
            "bottom": null,
            "display": null,
            "flex": null,
            "flex_flow": null,
            "grid_area": null,
            "grid_auto_columns": null,
            "grid_auto_flow": null,
            "grid_auto_rows": null,
            "grid_column": null,
            "grid_gap": null,
            "grid_row": null,
            "grid_template_areas": null,
            "grid_template_columns": null,
            "grid_template_rows": null,
            "height": null,
            "justify_content": null,
            "justify_items": null,
            "left": null,
            "margin": null,
            "max_height": null,
            "max_width": null,
            "min_height": null,
            "min_width": null,
            "object_fit": null,
            "object_position": null,
            "order": null,
            "overflow": null,
            "overflow_x": null,
            "overflow_y": null,
            "padding": null,
            "right": null,
            "top": null,
            "visibility": null,
            "width": null
          }
        },
        "897af0178f9843bbb6081ebc07cfbf4c": {
          "model_module": "@jupyter-widgets/controls",
          "model_name": "DescriptionStyleModel",
          "model_module_version": "1.5.0",
          "state": {
            "_model_module": "@jupyter-widgets/controls",
            "_model_module_version": "1.5.0",
            "_model_name": "DescriptionStyleModel",
            "_view_count": null,
            "_view_module": "@jupyter-widgets/base",
            "_view_module_version": "1.2.0",
            "_view_name": "StyleView",
            "description_width": ""
          }
        },
        "b172c04c4d0f4aaeafd455bde1c98c5f": {
          "model_module": "@jupyter-widgets/base",
          "model_name": "LayoutModel",
          "model_module_version": "1.2.0",
          "state": {
            "_model_module": "@jupyter-widgets/base",
            "_model_module_version": "1.2.0",
            "_model_name": "LayoutModel",
            "_view_count": null,
            "_view_module": "@jupyter-widgets/base",
            "_view_module_version": "1.2.0",
            "_view_name": "LayoutView",
            "align_content": null,
            "align_items": null,
            "align_self": null,
            "border": null,
            "bottom": null,
            "display": null,
            "flex": null,
            "flex_flow": null,
            "grid_area": null,
            "grid_auto_columns": null,
            "grid_auto_flow": null,
            "grid_auto_rows": null,
            "grid_column": null,
            "grid_gap": null,
            "grid_row": null,
            "grid_template_areas": null,
            "grid_template_columns": null,
            "grid_template_rows": null,
            "height": null,
            "justify_content": null,
            "justify_items": null,
            "left": null,
            "margin": null,
            "max_height": null,
            "max_width": null,
            "min_height": null,
            "min_width": null,
            "object_fit": null,
            "object_position": null,
            "order": null,
            "overflow": null,
            "overflow_x": null,
            "overflow_y": null,
            "padding": null,
            "right": null,
            "top": null,
            "visibility": null,
            "width": null
          }
        },
        "fc136aa76e5b47ae8bba59e3e0b3ac05": {
          "model_module": "@jupyter-widgets/controls",
          "model_name": "ProgressStyleModel",
          "model_module_version": "1.5.0",
          "state": {
            "_model_module": "@jupyter-widgets/controls",
            "_model_module_version": "1.5.0",
            "_model_name": "ProgressStyleModel",
            "_view_count": null,
            "_view_module": "@jupyter-widgets/base",
            "_view_module_version": "1.2.0",
            "_view_name": "StyleView",
            "bar_color": null,
            "description_width": ""
          }
        },
        "19fe4533e98f44afbc16945302da1c56": {
          "model_module": "@jupyter-widgets/base",
          "model_name": "LayoutModel",
          "model_module_version": "1.2.0",
          "state": {
            "_model_module": "@jupyter-widgets/base",
            "_model_module_version": "1.2.0",
            "_model_name": "LayoutModel",
            "_view_count": null,
            "_view_module": "@jupyter-widgets/base",
            "_view_module_version": "1.2.0",
            "_view_name": "LayoutView",
            "align_content": null,
            "align_items": null,
            "align_self": null,
            "border": null,
            "bottom": null,
            "display": null,
            "flex": null,
            "flex_flow": null,
            "grid_area": null,
            "grid_auto_columns": null,
            "grid_auto_flow": null,
            "grid_auto_rows": null,
            "grid_column": null,
            "grid_gap": null,
            "grid_row": null,
            "grid_template_areas": null,
            "grid_template_columns": null,
            "grid_template_rows": null,
            "height": null,
            "justify_content": null,
            "justify_items": null,
            "left": null,
            "margin": null,
            "max_height": null,
            "max_width": null,
            "min_height": null,
            "min_width": null,
            "object_fit": null,
            "object_position": null,
            "order": null,
            "overflow": null,
            "overflow_x": null,
            "overflow_y": null,
            "padding": null,
            "right": null,
            "top": null,
            "visibility": null,
            "width": null
          }
        },
        "0972fbf4199a42d7859eee17691b05f3": {
          "model_module": "@jupyter-widgets/controls",
          "model_name": "DescriptionStyleModel",
          "model_module_version": "1.5.0",
          "state": {
            "_model_module": "@jupyter-widgets/controls",
            "_model_module_version": "1.5.0",
            "_model_name": "DescriptionStyleModel",
            "_view_count": null,
            "_view_module": "@jupyter-widgets/base",
            "_view_module_version": "1.2.0",
            "_view_name": "StyleView",
            "description_width": ""
          }
        }
      }
    }
  },
  "cells": [
    {
      "cell_type": "markdown",
      "source": [
        "# Embedding-as-a-Service using Sentence Transformers, the Hugging Face Inference API, and 🤗Datasets: Notebook Companion\n",
        "\n"
      ],
      "metadata": {
        "id": "PPg2HdoH8o2p"
      }
    },
    {
      "cell_type": "markdown",
      "source": [
        "![thumbnail.png](data:image/png;base64,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)"
      ],
      "metadata": {
        "id": "0N6a-RPS9jLg"
      }
    },
    {
      "cell_type": "markdown",
      "source": [
        "## 1. Using the Hugging Face Inference API to embed our dataset"
      ],
      "metadata": {
        "id": "70e0sP4t-Cvx"
      }
    },
    {
      "cell_type": "code",
      "execution_count": null,
      "metadata": {
        "id": "d_McQCASzpT_"
      },
      "outputs": [],
      "source": [
        "model_id = \"sentence-transformers/all-MiniLM-L6-v2\"\n",
        "hf_token = \"get your token in http://hf.co/settings/tokens\""
      ]
    },
    {
      "cell_type": "code",
      "source": [
        "import requests\n",
        "from typing import Dict\n",
        "\n",
        "api_url = f\"https://api-inference.huggingface.co/pipeline/feature-extraction/{model_id}\"\n",
        "headers = {\"Authorization\": f\"Bearer {hf_token}\"}\n",
        "\n",
        "def query(texts: Dict):\n",
        "    response = requests.post(api_url, headers=headers, json=texts)\n",
        "    return response.json()"
      ],
      "metadata": {
        "id": "Kg0HaYGSz2GC"
      },
      "execution_count": null,
      "outputs": []
    },
    {
      "cell_type": "code",
      "source": [
        "texts = [\"How do I get a replacement Medicare card?\",\n",
        "        \"What is the monthly premium for Medicare Part B?\",\n",
        "        \"How do I terminate my Medicare Part B (medical insurance)?\",\n",
        "        \"How do I sign up for Medicare?\",\n",
        "        \"Can I sign up for Medicare Part B if I am working and have health insurance through an employer?\",\n",
        "        \"How do I sign up for Medicare Part B if I already have Part A?\",\n",
        "        \"What are Medicare late enrollment penalties?\",\n",
        "        \"What is Medicare and who can get it?\",\n",
        "        \"How can I get help with my Medicare Part A and Part B premiums?\",\n",
        "        \"What are the different parts of Medicare?\",\n",
        "        \"Will my Medicare premiums be higher because of my higher income?\",\n",
        "        \"What is TRICARE ?\",\n",
        "        \"Should I sign up for Medicare Part B if I have Veterans’ Benefits?\"]\n",
        "\n",
        "output = query(dict(inputs = texts))"
      ],
      "metadata": {
        "id": "u7iHNzsq05k7"
      },
      "execution_count": null,
      "outputs": []
    },
    {
      "cell_type": "code",
      "source": [
        "import pandas as pd\n",
        "\n",
        "embeddings = pd.DataFrame(output)"
      ],
      "metadata": {
        "id": "PVDIE076NIZB"
      },
      "execution_count": null,
      "outputs": []
    },
    {
      "cell_type": "code",
      "source": [
        "print(embeddings)"
      ],
      "metadata": {
        "colab": {
          "base_uri": "https://localhost:8080/"
        },
        "id": "ElAxRHyzjrd4",
        "outputId": "8d26069b-20cd-4088-e9e8-3c7c16dd673c"
      },
      "execution_count": null,
      "outputs": [
        {
          "output_type": "stream",
          "name": "stdout",
          "text": [
            "         0         1         2         3         4         5         6    \\\n",
            "0  -0.023889  0.055259 -0.011655 -0.033414 -0.012261 -0.024873 -0.012663   \n",
            "1  -0.012688  0.046874 -0.010502 -0.020384 -0.013361  0.042322  0.016628   \n",
            "2   0.000494  0.119412  0.005229 -0.092734  0.007773 -0.005325  0.034506   \n",
            "3  -0.029711  0.023298 -0.057041 -0.012183 -0.013710  0.029796  0.063739   \n",
            "4  -0.025628  0.070389 -0.017380 -0.056567  0.028576  0.052823  0.067062   \n",
            "5  -0.022656  0.021160  0.005105 -0.046494  0.009074  0.041495  0.054268   \n",
            "6  -0.002911  0.060791 -0.009176 -0.006133  0.040492  0.036594  0.002054   \n",
            "7  -0.080526  0.059888 -0.048847 -0.040176 -0.063342  0.041848  0.119045   \n",
            "8  -0.034388  0.072501  0.014440 -0.036695  0.014019  0.063070  0.034683   \n",
            "9  -0.005964  0.025044 -0.003182 -0.025243 -0.039823 -0.012772  0.044713   \n",
            "10 -0.039008 -0.010610 -0.007383 -0.050190 -0.002518 -0.041641  0.026969   \n",
            "11 -0.095983 -0.063012 -0.116906 -0.059075 -0.051323 -0.003439  0.018687   \n",
            "12 -0.011629  0.059619  0.016509 -0.094747 -0.008346  0.070966  0.042429   \n",
            "\n",
            "         7         8         9    ...       374       375       376       377  \\\n",
            "0   0.025346  0.018509 -0.083508  ... -0.161688 -0.046426  0.006004  0.005281   \n",
            "1  -0.004099 -0.002607 -0.010188  ... -0.061594 -0.020717 -0.009082 -0.029260   \n",
            "2  -0.051981 -0.006265 -0.006111  ... -0.108326 -0.049646 -0.073399 -0.029898   \n",
            "3   0.001101 -0.045124 -0.040747  ... -0.117682  0.031924  0.000854  0.020200   \n",
            "4  -0.052618 -0.054702 -0.116230  ... -0.118145  0.013343 -0.055188 -0.032723   \n",
            "5  -0.024185 -0.013483 -0.075966  ... -0.100110  0.010750 -0.031469 -0.004822   \n",
            "6  -0.031345  0.031806 -0.023495  ... -0.028763 -0.060458 -0.018598 -0.040189   \n",
            "7   0.010652 -0.030095 -0.004561  ... -0.144566  0.020404  0.023088  0.005077   \n",
            "8  -0.014531 -0.059862 -0.045383  ... -0.114763 -0.035894 -0.019877 -0.033375   \n",
            "9   0.014535 -0.038213 -0.041149  ... -0.057621  0.021594  0.048983 -0.044541   \n",
            "10 -0.014801 -0.014127 -0.061637  ... -0.098168 -0.031693 -0.052128  0.014774   \n",
            "11  0.006544 -0.049057 -0.031649  ... -0.041085 -0.008593 -0.021544 -0.021112   \n",
            "12 -0.041212 -0.038502 -0.099356  ... -0.135191  0.011535 -0.050499 -0.007376   \n",
            "\n",
            "         378       379       380       381       382       383  \n",
            "0  -0.003342  0.027754  0.020411  0.005778  0.034098 -0.006889  \n",
            "1  -0.066253  0.065257  0.013229 -0.023103 -0.002785  0.010474  \n",
            "2  -0.102734  0.062121  0.034606  0.016877 -0.023861  0.005264  \n",
            "3  -0.020666 -0.005167  0.038370  0.003617  0.033993 -0.010255  \n",
            "4   0.008436  0.019169  0.048212 -0.040412  0.083346  0.026855  \n",
            "5   0.039657  0.026384  0.045514  0.059089 -0.017509  0.007166  \n",
            "6  -0.031486 -0.018299  0.002286 -0.073420  0.016235 -0.000244  \n",
            "7  -0.055645 -0.007675  0.050791 -0.005989  0.134562  0.034817  \n",
            "8  -0.030168  0.039412  0.044993  0.000578 -0.025124  0.034191  \n",
            "9  -0.030137  0.006779  0.054854  0.029937  0.070214  0.041565  \n",
            "10 -0.091150  0.001324  0.053866 -0.083904  0.037684  0.002314  \n",
            "11 -0.019502  0.050039 -0.029175  0.005498  0.152892  0.024720  \n",
            "12  0.084258 -0.008294  0.034186 -0.028212 -0.001166  0.001067  \n",
            "\n",
            "[13 rows x 384 columns]\n"
          ]
        }
      ]
    },
    {
      "cell_type": "markdown",
      "source": [
        "## 2. Host your embedded dataset for free on the Hugging Face Hub\n"
      ],
      "metadata": {
        "id": "aKJJzhYX-OEA"
      }
    },
    {
      "cell_type": "code",
      "source": [
        "%%capture\n",
        "!pip install huggingface-hub"
      ],
      "metadata": {
        "id": "UGQ0g9DM2wn_"
      },
      "execution_count": null,
      "outputs": []
    },
    {
      "cell_type": "code",
      "source": [
        "!huggingface-cli login"
      ],
      "metadata": {
        "colab": {
          "base_uri": "https://localhost:8080/"
        },
        "id": "pk9el6S52qZl",
        "outputId": "6410ce0e-a77c-4a69-e0a2-28d2169a1d5a"
      },
      "execution_count": null,
      "outputs": [
        {
          "output_type": "stream",
          "name": "stdout",
          "text": [
            "\n",
            "        _|    _|  _|    _|    _|_|_|    _|_|_|  _|_|_|  _|      _|    _|_|_|      _|_|_|_|    _|_|      _|_|_|  _|_|_|_|\n",
            "        _|    _|  _|    _|  _|        _|          _|    _|_|    _|  _|            _|        _|    _|  _|        _|\n",
            "        _|_|_|_|  _|    _|  _|  _|_|  _|  _|_|    _|    _|  _|  _|  _|  _|_|      _|_|_|    _|_|_|_|  _|        _|_|_|\n",
            "        _|    _|  _|    _|  _|    _|  _|    _|    _|    _|    _|_|  _|    _|      _|        _|    _|  _|        _|\n",
            "        _|    _|    _|_|      _|_|_|    _|_|_|  _|_|_|  _|      _|    _|_|_|      _|        _|    _|    _|_|_|  _|_|_|_|\n",
            "\n",
            "        To login, `huggingface_hub` now requires a token generated from https://huggingface.co/settings/tokens .\n",
            "        (Deprecated, will be removed in v0.3.0) To login with username and password instead, interrupt with Ctrl+C.\n",
            "        \n",
            "Token: \n",
            "Login successful\n",
            "Your token has been saved to /root/.huggingface/token\n",
            "\u001b[1m\u001b[31mAuthenticated through git-credential store but this isn't the helper defined on your machine.\n",
            "You might have to re-authenticate when pushing to the Hugging Face Hub. Run the following command in your terminal in case you want to set this credential helper as the default\n",
            "\n",
            "git config --global credential.helper store\u001b[0m\n"
          ]
        }
      ]
    },
    {
      "cell_type": "code",
      "source": [
        "!huggingface-cli repo create embedded_faqs_medicare --type dataset --organization ITESM"
      ],
      "metadata": {
        "colab": {
          "base_uri": "https://localhost:8080/"
        },
        "id": "z06NVe-83wf1",
        "outputId": "6549e164-4f49-4211-825c-152be383d8e9"
      },
      "execution_count": null,
      "outputs": [
        {
          "output_type": "stream",
          "name": "stdout",
          "text": [
            "\u001b[90mgit version 2.17.1\u001b[0m\n",
            "Error: unknown flag: --version\n",
            "\n",
            "\u001b[90mSorry, no usage text found for \"git-lfs\"\u001b[0m\n",
            "\n",
            "You are about to create \u001b[1mdatasets/ITESM/embedded_faqs_medicare\u001b[0m\n",
            "Proceed? [Y/n] y\n",
            "\n",
            "Your repo now lives at:\n",
            "  \u001b[1mhttps://huggingface.co/datasets/ITESM/embedded_faqs_medicare\u001b[0m\n",
            "\n",
            "You can clone it locally with the command below, and commit/push as usual.\n",
            "\n",
            "  git clone https://huggingface.co/datasets/ITESM/embedded_faqs_medicare\n",
            "\n"
          ]
        }
      ]
    },
    {
      "cell_type": "code",
      "source": [
        "# This is code required to install git-lfs however it already is installed in Colab instances.\n",
        "#!git lfs install"
      ],
      "metadata": {
        "colab": {
          "base_uri": "https://localhost:8080/"
        },
        "id": "beO4nEln40-N",
        "outputId": "53c968da-12c7-4e71-b73b-926bab2ae4bb"
      },
      "execution_count": null,
      "outputs": [
        {
          "output_type": "stream",
          "name": "stdout",
          "text": [
            "Error: Failed to call git rev-parse --git-dir --show-toplevel: \"fatal: not a git repository (or any of the parent directories): .git\\n\"\n",
            "Git LFS initialized.\n"
          ]
        }
      ]
    },
    {
      "cell_type": "code",
      "source": [
        "!git clone https://{your HF user here}:{your token here}@huggingface.co/datasets/ITESM/embedded_faqs_medicare"
      ],
      "metadata": {
        "colab": {
          "base_uri": "https://localhost:8080/"
        },
        "id": "2O0b5awa4uTd",
        "outputId": "bbe60f52-7057-4fa3-c6a6-91b66dad063b"
      },
      "execution_count": null,
      "outputs": [
        {
          "output_type": "stream",
          "name": "stdout",
          "text": [
            "Cloning into 'embedded_faqs_medicare'...\n",
            "remote: Enumerating objects: 3, done.\u001b[K\n",
            "remote: Counting objects: 100% (3/3), done.\u001b[K\n",
            "remote: Compressing objects: 100% (2/2), done.\u001b[K\n",
            "remote: Total 3 (delta 0), reused 0 (delta 0), pack-reused 0\u001b[K\n",
            "Unpacking objects: 100% (3/3), done.\n"
          ]
        }
      ]
    },
    {
      "cell_type": "code",
      "source": [
        "embeddings.to_csv(\"embedded_faqs_medicare/embeddings.csv\", index=False)\n",
        "print(embeddings.shape)"
      ],
      "metadata": {
        "id": "pSVebbDq6n4g"
      },
      "execution_count": null,
      "outputs": []
    },
    {
      "cell_type": "markdown",
      "source": [
        "Changing directory to our repo `embedded_faqs_medicare`."
      ],
      "metadata": {
        "id": "Iezsa2P38rie"
      }
    },
    {
      "cell_type": "code",
      "source": [
        "%cd embedded_faqs_medicare/"
      ],
      "metadata": {
        "colab": {
          "base_uri": "https://localhost:8080/"
        },
        "id": "VU2t0vL18gJw",
        "outputId": "f9b9593f-fd5f-45ba-a352-f9bfdbc2285c"
      },
      "execution_count": null,
      "outputs": [
        {
          "output_type": "stream",
          "name": "stdout",
          "text": [
            "/content/embedded_faqs_medicare\n"
          ]
        }
      ]
    },
    {
      "cell_type": "code",
      "source": [
        "!git lfs track *.csv\n",
        "!git add .gitattributes\n",
        "!git add embeddings.csv"
      ],
      "metadata": {
        "colab": {
          "base_uri": "https://localhost:8080/"
        },
        "id": "oZFTmNB_7BJu",
        "outputId": "6809aa89-f318-43fe-f7bb-5ba359a3bc54"
      },
      "execution_count": null,
      "outputs": [
        {
          "output_type": "stream",
          "name": "stdout",
          "text": [
            "Tracking \"embeddings.csv\"\n"
          ]
        }
      ]
    },
    {
      "cell_type": "code",
      "source": [
        "!git config --global user.email \"your email here\"\n",
        "!git config --global user.name \"your git user here\""
      ],
      "metadata": {
        "id": "-kDcX1lb9xWP"
      },
      "execution_count": null,
      "outputs": []
    },
    {
      "cell_type": "code",
      "source": [
        "!git commit -m \"First version of the embedded_faqs_medicare dataset\"\n",
        "!git push"
      ],
      "metadata": {
        "colab": {
          "base_uri": "https://localhost:8080/"
        },
        "id": "GMsNtanX8yOj",
        "outputId": "89087c65-ca1f-44db-cef6-f047ba91cc06"
      },
      "execution_count": null,
      "outputs": [
        {
          "output_type": "stream",
          "name": "stdout",
          "text": [
            "[main fc6fd98] First version of the embedded_faqs_medicare dataset\n",
            " 2 files changed, 15 insertions(+)\n",
            " create mode 100644 embeddings.csv\n",
            "Counting objects: 4, done.\n",
            "Delta compression using up to 2 threads.\n",
            "Compressing objects: 100% (4/4), done.\n",
            "Writing objects: 100% (4/4), 47.28 KiB | 4.73 MiB/s, done.\n",
            "Total 4 (delta 1), reused 0 (delta 0)\n",
            "To https://huggingface.co/datasets/ITESM/embedded_faqs_medicare\n",
            "   68bbeb7..fc6fd98  main -> main\n"
          ]
        }
      ]
    },
    {
      "cell_type": "markdown",
      "source": [
        "## 3. Make a query and get the most similar FAQs"
      ],
      "metadata": {
        "id": "azsWjRb9-gZY"
      }
    },
    {
      "cell_type": "markdown",
      "source": [
        "Load embeddings"
      ],
      "metadata": {
        "id": "i6ljwY9s5EjR"
      }
    },
    {
      "cell_type": "code",
      "source": [
        "%%capture\n",
        "!pip install datasets"
      ],
      "metadata": {
        "id": "miTP1yro5Xnq"
      },
      "execution_count": null,
      "outputs": []
    },
    {
      "cell_type": "code",
      "source": [
        "from datasets import load_dataset\n",
        "\n",
        "faqs_embeddings = load_dataset('ITESM/embedded_faqs_medicare')\n",
        "np_embeddings = faqs_embeddings[\"train\"].to_pandas().to_numpy()"
      ],
      "metadata": {
        "colab": {
          "base_uri": "https://localhost:8080/",
          "height": 217,
          "referenced_widgets": [
            "81a71639026d458ebe087cc094b0b77c",
            "5dd07fbac55347e6a1a6f4da601cd259",
            "435ad89628ed4d48b2b266784d9b4e05",
            "643966fcbd6d41879d5187b6e239aa89",
            "84c517348ac34c4398d74a1c913960e6",
            "998283bdd9184f2793aded58c9e0fedc",
            "5ffd82a6a8bd4b9a9f35ef1fd2618bfd",
            "e959e03b794a48198608f583b3528695",
            "bb1b23c00b3847b082a7ae23c8436f4f",
            "6b335ce913224237afc03f57966fd987",
            "246c94340733487a97cf1c18da69904d",
            "292563cf0b6440b3b12602f035187506",
            "99ec4ab682f24d8d93dd6e20499b67ac",
            "bd216808f2d74ec7a716d36f70911d9f",
            "6050b6030cc34139b074331b35a5a33b",
            "5330830a6a7b4120bdf32a8d71ca9dad",
            "f8d24f85b10e4f248dbf60d751a0af1f",
            "d5ce90fd81af4bde83ff2283777a3a90",
            "ff8ed247d3564333b7ed7677a6385fb1",
            "49bab2ede6dc4e13a0010c53be5d6406",
            "4f1c326e7d29476ca2aeeff7606f5a5f",
            "77379a842c8b41018d96d91703f5117d",
            "70056e18155a47b08f4402ea6da54080",
            "3db9207ccf6c4395bc78324f3d5e5c83",
            "58d4a47693bf40f6be19354531de5ef6",
            "973c59bf110b401b82500a9f0ae7e319",
            "9ba9d957d81e471abedf2999661321fe",
            "03fe59cdf3fa4f1bbcecbb602b7b1bdd",
            "9a559929820649369ecac3b2b0ee3aef",
            "c75477e139da4a1c942b5dc0e3b48ed6",
            "3fa795ecb8714304bbc9da716e1ce9ba",
            "379efc963859420bad243c17510878af",
            "4485682966eb4eb5a83eeadeab44ff96",
            "4e5118cdc1b740aab861cb3bbd59c2ad",
            "a7128ceb60844ce5b2a58f264b931c0f",
            "8c8aa94063c340c388350b6cf6466a31",
            "9a0627aba00d43ea94619656ae2e5a4f",
            "071d0af93b6241db93bd03a6274e6e1c",
            "86e48df93b884e15a6d1789b50f02be8",
            "76a7afa4d97c4c7ab30f4110ad4e5024",
            "132a53836a684357bb5bc916870492d7",
            "df143862785e483c912e6d403d593440",
            "ffbe660651e948f0ab001b3931677d43",
            "fdc1b31771f44806baa9fdd08409cfc5",
            "91f5fe6e62f94f8bb1bce35a8829ce4d",
            "7a2f70d56ca7498488b74eb9d49a5571",
            "7d7eeb193a574dbbad98b561b8935026",
            "8334b6e8870440a2902ebbe50b533c8e",
            "f7b594e0ec1a42488255fa746a9e836b",
            "f54be787b74f461494e6495ad9d1b57f",
            "897af0178f9843bbb6081ebc07cfbf4c",
            "b172c04c4d0f4aaeafd455bde1c98c5f",
            "fc136aa76e5b47ae8bba59e3e0b3ac05",
            "19fe4533e98f44afbc16945302da1c56",
            "0972fbf4199a42d7859eee17691b05f3"
          ]
        },
        "id": "c_kc0dbl5H9d",
        "outputId": "22033631-f8e5-4eb5-e011-99c999717c15"
      },
      "execution_count": null,
      "outputs": [
        {
          "output_type": "stream",
          "name": "stderr",
          "text": [
            "Using custom data configuration ITESM--embedded_faqs_medicare-cb978a6449c82d29\n"
          ]
        },
        {
          "output_type": "stream",
          "name": "stdout",
          "text": [
            "Downloading and preparing dataset csv/ITESM--embedded_faqs_medicare to /root/.cache/huggingface/datasets/ITESM___csv/ITESM--embedded_faqs_medicare-cb978a6449c82d29/0.0.0/51cce309a08df9c4d82ffd9363bbe090bf173197fc01a71b034e8594995a1a58...\n"
          ]
        },
        {
          "output_type": "display_data",
          "data": {
            "text/plain": [
              "Downloading data files:   0%|          | 0/1 [00:00<?, ?it/s]"
            ],
            "application/vnd.jupyter.widget-view+json": {
              "version_major": 2,
              "version_minor": 0,
              "model_id": "81a71639026d458ebe087cc094b0b77c"
            }
          },
          "metadata": {}
        },
        {
          "output_type": "display_data",
          "data": {
            "text/plain": [
              "Downloading data:   0%|          | 0.00/106k [00:00<?, ?B/s]"
            ],
            "application/vnd.jupyter.widget-view+json": {
              "version_major": 2,
              "version_minor": 0,
              "model_id": "292563cf0b6440b3b12602f035187506"
            }
          },
          "metadata": {}
        },
        {
          "output_type": "display_data",
          "data": {
            "text/plain": [
              "Extracting data files:   0%|          | 0/1 [00:00<?, ?it/s]"
            ],
            "application/vnd.jupyter.widget-view+json": {
              "version_major": 2,
              "version_minor": 0,
              "model_id": "70056e18155a47b08f4402ea6da54080"
            }
          },
          "metadata": {}
        },
        {
          "output_type": "display_data",
          "data": {
            "text/plain": [
              "0 tables [00:00, ? tables/s]"
            ],
            "application/vnd.jupyter.widget-view+json": {
              "version_major": 2,
              "version_minor": 0,
              "model_id": "4e5118cdc1b740aab861cb3bbd59c2ad"
            }
          },
          "metadata": {}
        },
        {
          "output_type": "stream",
          "name": "stdout",
          "text": [
            "Dataset csv downloaded and prepared to /root/.cache/huggingface/datasets/ITESM___csv/ITESM--embedded_faqs_medicare-cb978a6449c82d29/0.0.0/51cce309a08df9c4d82ffd9363bbe090bf173197fc01a71b034e8594995a1a58. Subsequent calls will reuse this data.\n"
          ]
        },
        {
          "output_type": "display_data",
          "data": {
            "text/plain": [
              "  0%|          | 0/1 [00:00<?, ?it/s]"
            ],
            "application/vnd.jupyter.widget-view+json": {
              "version_major": 2,
              "version_minor": 0,
              "model_id": "91f5fe6e62f94f8bb1bce35a8829ce4d"
            }
          },
          "metadata": {}
        }
      ]
    },
    {
      "cell_type": "code",
      "source": [
        "question = [\"How can Medicare help me?\"]\n",
        "\n",
        "output = query(dict(inputs = question))\n",
        "\n",
        "import numpy as np\n",
        "query_embeddings = np.asarray(output)\n",
        "\n",
        "print(query_embeddings.shape)"
      ],
      "metadata": {
        "colab": {
          "base_uri": "https://localhost:8080/"
        },
        "id": "Tb5yJd7ABUBG",
        "outputId": "04c732c0-d0ca-4041-d6e6-f5fccc8a8309"
      },
      "execution_count": null,
      "outputs": [
        {
          "output_type": "stream",
          "name": "stdout",
          "text": [
            "(1, 384)\n"
          ]
        }
      ]
    },
    {
      "cell_type": "code",
      "source": [
        "def cos_sim(query, embedded_dataset):\n",
        "  return np.matmul(query, np.transpose(embedded_dataset)) / (np.linalg.norm(query) * np.linalg.norm(embedded_dataset))"
      ],
      "metadata": {
        "id": "ryaCJboQYYPa"
      },
      "execution_count": null,
      "outputs": []
    },
    {
      "cell_type": "code",
      "source": [
        "hits = cos_sim(query_embeddings, np_embeddings)"
      ],
      "metadata": {
        "id": "e_XibvysbKch"
      },
      "execution_count": null,
      "outputs": []
    },
    {
      "cell_type": "code",
      "source": [
        "def top_faqs(hits_array):\n",
        "  return np.flip(np.argpartition(hits_array, range(hits_array.size-1))).tolist()[0]\n",
        "\n",
        "index_top_faqs = top_faqs(hits)\n",
        "print(index_top_faqs)"
      ],
      "metadata": {
        "colab": {
          "base_uri": "https://localhost:8080/"
        },
        "id": "tn3W6h-cc7Yo",
        "outputId": "085e116b-0809-4d1b-df57-d2aa0b9a8d95"
      },
      "execution_count": null,
      "outputs": [
        {
          "output_type": "stream",
          "name": "stdout",
          "text": [
            "[8, 7, 3, 9, 10, 0, 5, 2, 4, 1, 12, 6, 11]\n"
          ]
        }
      ]
    },
    {
      "cell_type": "code",
      "source": [
        "[texts[i] for i in index_top_faqs]    "
      ],
      "metadata": {
        "colab": {
          "base_uri": "https://localhost:8080/"
        },
        "id": "3P2poeGiecM6",
        "outputId": "8d785abe-8adc-4298-8c5e-4a351a2cc785"
      },
      "execution_count": null,
      "outputs": [
        {
          "output_type": "execute_result",
          "data": {
            "text/plain": [
              "['How can I get help with my Medicare Part A and Part B premiums?',\n",
              " 'What is Medicare and who can get it?',\n",
              " 'How do I sign up for Medicare?',\n",
              " 'What are the different parts of Medicare?',\n",
              " 'Will my Medicare premiums be higher because of my higher income?',\n",
              " 'How do I get a replacement Medicare card?',\n",
              " 'How do I sign up for Medicare Part B if I already have Part A?',\n",
              " 'How do I terminate my Medicare Part B (medical insurance)?',\n",
              " 'Can I sign up for Medicare Part B if I am working and have health insurance through an employer?',\n",
              " 'What is the monthly premium for Medicare Part B?',\n",
              " 'Should I sign up for Medicare Part B if I have Veterans’ Benefits?',\n",
              " 'What are Medicare late enrollment penalties?',\n",
              " 'What is TRICARE ?']"
            ]
          },
          "metadata": {},
          "execution_count": 153
        }
      ]
    }
  ]
}