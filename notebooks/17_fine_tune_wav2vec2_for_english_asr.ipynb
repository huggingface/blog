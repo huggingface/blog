{
  "nbformat": 4,
  "nbformat_minor": 0,
  "metadata": {
    "colab": {
      "name": "Fine-tuning Wav2Vec2 for English ASR",
      "provenance": [],
      "collapsed_sections": [],
      "toc_visible": true,
      "machine_shape": "hm",
      "include_colab_link": true
    },
    "kernelspec": {
      "name": "python3",
      "display_name": "Python 3"
    },
    "accelerator": "GPU",
    "widgets": {
      "application/vnd.jupyter.widget-state+json": {
        "5f2ed798b2674fd98052ced2faae3aa9": {
          "model_module": "@jupyter-widgets/controls",
          "model_name": "HBoxModel",
          "state": {
            "_view_name": "HBoxView",
            "_dom_classes": [],
            "_model_name": "HBoxModel",
            "_view_module": "@jupyter-widgets/controls",
            "_model_module_version": "1.5.0",
            "_view_count": null,
            "_view_module_version": "1.5.0",
            "box_style": "",
            "layout": "IPY_MODEL_9a81ad54827f47bd8f2a8453a50e706f",
            "_model_module": "@jupyter-widgets/controls",
            "children": [
              "IPY_MODEL_940b86f6edca4cecad67b6f6872c39e1",
              "IPY_MODEL_afee4f92343c4be28de297aca4a29505"
            ]
          }
        },
        "9a81ad54827f47bd8f2a8453a50e706f": {
          "model_module": "@jupyter-widgets/base",
          "model_name": "LayoutModel",
          "state": {
            "_view_name": "LayoutView",
            "grid_template_rows": null,
            "right": null,
            "justify_content": null,
            "_view_module": "@jupyter-widgets/base",
            "overflow": null,
            "_model_module_version": "1.2.0",
            "_view_count": null,
            "flex_flow": null,
            "width": null,
            "min_width": null,
            "border": null,
            "align_items": null,
            "bottom": null,
            "_model_module": "@jupyter-widgets/base",
            "top": null,
            "grid_column": null,
            "overflow_y": null,
            "overflow_x": null,
            "grid_auto_flow": null,
            "grid_area": null,
            "grid_template_columns": null,
            "flex": null,
            "_model_name": "LayoutModel",
            "justify_items": null,
            "grid_row": null,
            "max_height": null,
            "align_content": null,
            "visibility": null,
            "align_self": null,
            "height": null,
            "min_height": null,
            "padding": null,
            "grid_auto_rows": null,
            "grid_gap": null,
            "max_width": null,
            "order": null,
            "_view_module_version": "1.2.0",
            "grid_template_areas": null,
            "object_position": null,
            "object_fit": null,
            "grid_auto_columns": null,
            "margin": null,
            "display": null,
            "left": null
          }
        },
        "940b86f6edca4cecad67b6f6872c39e1": {
          "model_module": "@jupyter-widgets/controls",
          "model_name": "FloatProgressModel",
          "state": {
            "_view_name": "ProgressView",
            "style": "IPY_MODEL_0a849afcd78842f98c0471c32866fcb8",
            "_dom_classes": [],
            "description": "100%",
            "_model_name": "FloatProgressModel",
            "bar_style": "success",
            "max": 1,
            "_view_module": "@jupyter-widgets/controls",
            "_model_module_version": "1.5.0",
            "value": 1,
            "_view_count": null,
            "_view_module_version": "1.5.0",
            "orientation": "horizontal",
            "min": 0,
            "description_tooltip": null,
            "_model_module": "@jupyter-widgets/controls",
            "layout": "IPY_MODEL_3298d9de17264aa4ac576b073e32db10"
          }
        },
        "afee4f92343c4be28de297aca4a29505": {
          "model_module": "@jupyter-widgets/controls",
          "model_name": "HTMLModel",
          "state": {
            "_view_name": "HTMLView",
            "style": "IPY_MODEL_2034de6f09014ee8b458066445444b04",
            "_dom_classes": [],
            "description": "",
            "_model_name": "HTMLModel",
            "placeholder": "​",
            "_view_module": "@jupyter-widgets/controls",
            "_model_module_version": "1.5.0",
            "value": " 1/1 [00:08&lt;00:00,  8.33s/ba]",
            "_view_count": null,
            "_view_module_version": "1.5.0",
            "description_tooltip": null,
            "_model_module": "@jupyter-widgets/controls",
            "layout": "IPY_MODEL_d13d3b5fd2424691b79cd229f8fd4f6f"
          }
        },
        "0a849afcd78842f98c0471c32866fcb8": {
          "model_module": "@jupyter-widgets/controls",
          "model_name": "ProgressStyleModel",
          "state": {
            "_view_name": "StyleView",
            "_model_name": "ProgressStyleModel",
            "description_width": "initial",
            "_view_module": "@jupyter-widgets/base",
            "_model_module_version": "1.5.0",
            "_view_count": null,
            "_view_module_version": "1.2.0",
            "bar_color": null,
            "_model_module": "@jupyter-widgets/controls"
          }
        },
        "3298d9de17264aa4ac576b073e32db10": {
          "model_module": "@jupyter-widgets/base",
          "model_name": "LayoutModel",
          "state": {
            "_view_name": "LayoutView",
            "grid_template_rows": null,
            "right": null,
            "justify_content": null,
            "_view_module": "@jupyter-widgets/base",
            "overflow": null,
            "_model_module_version": "1.2.0",
            "_view_count": null,
            "flex_flow": null,
            "width": null,
            "min_width": null,
            "border": null,
            "align_items": null,
            "bottom": null,
            "_model_module": "@jupyter-widgets/base",
            "top": null,
            "grid_column": null,
            "overflow_y": null,
            "overflow_x": null,
            "grid_auto_flow": null,
            "grid_area": null,
            "grid_template_columns": null,
            "flex": null,
            "_model_name": "LayoutModel",
            "justify_items": null,
            "grid_row": null,
            "max_height": null,
            "align_content": null,
            "visibility": null,
            "align_self": null,
            "height": null,
            "min_height": null,
            "padding": null,
            "grid_auto_rows": null,
            "grid_gap": null,
            "max_width": null,
            "order": null,
            "_view_module_version": "1.2.0",
            "grid_template_areas": null,
            "object_position": null,
            "object_fit": null,
            "grid_auto_columns": null,
            "margin": null,
            "display": null,
            "left": null
          }
        },
        "2034de6f09014ee8b458066445444b04": {
          "model_module": "@jupyter-widgets/controls",
          "model_name": "DescriptionStyleModel",
          "state": {
            "_view_name": "StyleView",
            "_model_name": "DescriptionStyleModel",
            "description_width": "",
            "_view_module": "@jupyter-widgets/base",
            "_model_module_version": "1.5.0",
            "_view_count": null,
            "_view_module_version": "1.2.0",
            "_model_module": "@jupyter-widgets/controls"
          }
        },
        "d13d3b5fd2424691b79cd229f8fd4f6f": {
          "model_module": "@jupyter-widgets/base",
          "model_name": "LayoutModel",
          "state": {
            "_view_name": "LayoutView",
            "grid_template_rows": null,
            "right": null,
            "justify_content": null,
            "_view_module": "@jupyter-widgets/base",
            "overflow": null,
            "_model_module_version": "1.2.0",
            "_view_count": null,
            "flex_flow": null,
            "width": null,
            "min_width": null,
            "border": null,
            "align_items": null,
            "bottom": null,
            "_model_module": "@jupyter-widgets/base",
            "top": null,
            "grid_column": null,
            "overflow_y": null,
            "overflow_x": null,
            "grid_auto_flow": null,
            "grid_area": null,
            "grid_template_columns": null,
            "flex": null,
            "_model_name": "LayoutModel",
            "justify_items": null,
            "grid_row": null,
            "max_height": null,
            "align_content": null,
            "visibility": null,
            "align_self": null,
            "height": null,
            "min_height": null,
            "padding": null,
            "grid_auto_rows": null,
            "grid_gap": null,
            "max_width": null,
            "order": null,
            "_view_module_version": "1.2.0",
            "grid_template_areas": null,
            "object_position": null,
            "object_fit": null,
            "grid_auto_columns": null,
            "margin": null,
            "display": null,
            "left": null
          }
        },
        "bc3f9aa79c0a4e9f85fdff7307fa1d1b": {
          "model_module": "@jupyter-widgets/controls",
          "model_name": "HBoxModel",
          "state": {
            "_view_name": "HBoxView",
            "_dom_classes": [],
            "_model_name": "HBoxModel",
            "_view_module": "@jupyter-widgets/controls",
            "_model_module_version": "1.5.0",
            "_view_count": null,
            "_view_module_version": "1.5.0",
            "box_style": "",
            "layout": "IPY_MODEL_69355cf02bae416a9d5fd890fb41d78b",
            "_model_module": "@jupyter-widgets/controls",
            "children": [
              "IPY_MODEL_5a2c824fd0f24084a750d2ecd1d9401b",
              "IPY_MODEL_6e23c99a8e6a47faa5f9ee487ad7f920"
            ]
          }
        },
        "69355cf02bae416a9d5fd890fb41d78b": {
          "model_module": "@jupyter-widgets/base",
          "model_name": "LayoutModel",
          "state": {
            "_view_name": "LayoutView",
            "grid_template_rows": null,
            "right": null,
            "justify_content": null,
            "_view_module": "@jupyter-widgets/base",
            "overflow": null,
            "_model_module_version": "1.2.0",
            "_view_count": null,
            "flex_flow": null,
            "width": null,
            "min_width": null,
            "border": null,
            "align_items": null,
            "bottom": null,
            "_model_module": "@jupyter-widgets/base",
            "top": null,
            "grid_column": null,
            "overflow_y": null,
            "overflow_x": null,
            "grid_auto_flow": null,
            "grid_area": null,
            "grid_template_columns": null,
            "flex": null,
            "_model_name": "LayoutModel",
            "justify_items": null,
            "grid_row": null,
            "max_height": null,
            "align_content": null,
            "visibility": null,
            "align_self": null,
            "height": null,
            "min_height": null,
            "padding": null,
            "grid_auto_rows": null,
            "grid_gap": null,
            "max_width": null,
            "order": null,
            "_view_module_version": "1.2.0",
            "grid_template_areas": null,
            "object_position": null,
            "object_fit": null,
            "grid_auto_columns": null,
            "margin": null,
            "display": null,
            "left": null
          }
        },
        "5a2c824fd0f24084a750d2ecd1d9401b": {
          "model_module": "@jupyter-widgets/controls",
          "model_name": "FloatProgressModel",
          "state": {
            "_view_name": "ProgressView",
            "style": "IPY_MODEL_37051888a8d941f9b9c823ed68b1fbb4",
            "_dom_classes": [],
            "description": "100%",
            "_model_name": "FloatProgressModel",
            "bar_style": "success",
            "max": 1,
            "_view_module": "@jupyter-widgets/controls",
            "_model_module_version": "1.5.0",
            "value": 1,
            "_view_count": null,
            "_view_module_version": "1.5.0",
            "orientation": "horizontal",
            "min": 0,
            "description_tooltip": null,
            "_model_module": "@jupyter-widgets/controls",
            "layout": "IPY_MODEL_ffb6112b3ebf4bc7b73aa169dfc6792c"
          }
        },
        "6e23c99a8e6a47faa5f9ee487ad7f920": {
          "model_module": "@jupyter-widgets/controls",
          "model_name": "HTMLModel",
          "state": {
            "_view_name": "HTMLView",
            "style": "IPY_MODEL_8adc6f69164b4090b63e7765afcf8be3",
            "_dom_classes": [],
            "description": "",
            "_model_name": "HTMLModel",
            "placeholder": "​",
            "_view_module": "@jupyter-widgets/controls",
            "_model_module_version": "1.5.0",
            "value": " 1/1 [00:00&lt;00:00,  6.36ba/s]",
            "_view_count": null,
            "_view_module_version": "1.5.0",
            "description_tooltip": null,
            "_model_module": "@jupyter-widgets/controls",
            "layout": "IPY_MODEL_01523f050e044715b493b1e17ace2ce2"
          }
        },
        "37051888a8d941f9b9c823ed68b1fbb4": {
          "model_module": "@jupyter-widgets/controls",
          "model_name": "ProgressStyleModel",
          "state": {
            "_view_name": "StyleView",
            "_model_name": "ProgressStyleModel",
            "description_width": "initial",
            "_view_module": "@jupyter-widgets/base",
            "_model_module_version": "1.5.0",
            "_view_count": null,
            "_view_module_version": "1.2.0",
            "bar_color": null,
            "_model_module": "@jupyter-widgets/controls"
          }
        },
        "ffb6112b3ebf4bc7b73aa169dfc6792c": {
          "model_module": "@jupyter-widgets/base",
          "model_name": "LayoutModel",
          "state": {
            "_view_name": "LayoutView",
            "grid_template_rows": null,
            "right": null,
            "justify_content": null,
            "_view_module": "@jupyter-widgets/base",
            "overflow": null,
            "_model_module_version": "1.2.0",
            "_view_count": null,
            "flex_flow": null,
            "width": null,
            "min_width": null,
            "border": null,
            "align_items": null,
            "bottom": null,
            "_model_module": "@jupyter-widgets/base",
            "top": null,
            "grid_column": null,
            "overflow_y": null,
            "overflow_x": null,
            "grid_auto_flow": null,
            "grid_area": null,
            "grid_template_columns": null,
            "flex": null,
            "_model_name": "LayoutModel",
            "justify_items": null,
            "grid_row": null,
            "max_height": null,
            "align_content": null,
            "visibility": null,
            "align_self": null,
            "height": null,
            "min_height": null,
            "padding": null,
            "grid_auto_rows": null,
            "grid_gap": null,
            "max_width": null,
            "order": null,
            "_view_module_version": "1.2.0",
            "grid_template_areas": null,
            "object_position": null,
            "object_fit": null,
            "grid_auto_columns": null,
            "margin": null,
            "display": null,
            "left": null
          }
        },
        "8adc6f69164b4090b63e7765afcf8be3": {
          "model_module": "@jupyter-widgets/controls",
          "model_name": "DescriptionStyleModel",
          "state": {
            "_view_name": "StyleView",
            "_model_name": "DescriptionStyleModel",
            "description_width": "",
            "_view_module": "@jupyter-widgets/base",
            "_model_module_version": "1.5.0",
            "_view_count": null,
            "_view_module_version": "1.2.0",
            "_model_module": "@jupyter-widgets/controls"
          }
        },
        "01523f050e044715b493b1e17ace2ce2": {
          "model_module": "@jupyter-widgets/base",
          "model_name": "LayoutModel",
          "state": {
            "_view_name": "LayoutView",
            "grid_template_rows": null,
            "right": null,
            "justify_content": null,
            "_view_module": "@jupyter-widgets/base",
            "overflow": null,
            "_model_module_version": "1.2.0",
            "_view_count": null,
            "flex_flow": null,
            "width": null,
            "min_width": null,
            "border": null,
            "align_items": null,
            "bottom": null,
            "_model_module": "@jupyter-widgets/base",
            "top": null,
            "grid_column": null,
            "overflow_y": null,
            "overflow_x": null,
            "grid_auto_flow": null,
            "grid_area": null,
            "grid_template_columns": null,
            "flex": null,
            "_model_name": "LayoutModel",
            "justify_items": null,
            "grid_row": null,
            "max_height": null,
            "align_content": null,
            "visibility": null,
            "align_self": null,
            "height": null,
            "min_height": null,
            "padding": null,
            "grid_auto_rows": null,
            "grid_gap": null,
            "max_width": null,
            "order": null,
            "_view_module_version": "1.2.0",
            "grid_template_areas": null,
            "object_position": null,
            "object_fit": null,
            "grid_auto_columns": null,
            "margin": null,
            "display": null,
            "left": null
          }
        },
        "44668393974b4a63ad82be76f0590f4c": {
          "model_module": "@jupyter-widgets/controls",
          "model_name": "HBoxModel",
          "state": {
            "_view_name": "HBoxView",
            "_dom_classes": [],
            "_model_name": "HBoxModel",
            "_view_module": "@jupyter-widgets/controls",
            "_model_module_version": "1.5.0",
            "_view_count": null,
            "_view_module_version": "1.5.0",
            "box_style": "",
            "layout": "IPY_MODEL_9060eb779ab8498bae00e6d96565a294",
            "_model_module": "@jupyter-widgets/controls",
            "children": [
              "IPY_MODEL_b95a7aee13244ddea0abefe5618195ad",
              "IPY_MODEL_f0484d53c00e4aa19cb7e6520c9ca75d"
            ]
          }
        },
        "9060eb779ab8498bae00e6d96565a294": {
          "model_module": "@jupyter-widgets/base",
          "model_name": "LayoutModel",
          "state": {
            "_view_name": "LayoutView",
            "grid_template_rows": null,
            "right": null,
            "justify_content": null,
            "_view_module": "@jupyter-widgets/base",
            "overflow": null,
            "_model_module_version": "1.2.0",
            "_view_count": null,
            "flex_flow": null,
            "width": null,
            "min_width": null,
            "border": null,
            "align_items": null,
            "bottom": null,
            "_model_module": "@jupyter-widgets/base",
            "top": null,
            "grid_column": null,
            "overflow_y": null,
            "overflow_x": null,
            "grid_auto_flow": null,
            "grid_area": null,
            "grid_template_columns": null,
            "flex": null,
            "_model_name": "LayoutModel",
            "justify_items": null,
            "grid_row": null,
            "max_height": null,
            "align_content": null,
            "visibility": null,
            "align_self": null,
            "height": null,
            "min_height": null,
            "padding": null,
            "grid_auto_rows": null,
            "grid_gap": null,
            "max_width": null,
            "order": null,
            "_view_module_version": "1.2.0",
            "grid_template_areas": null,
            "object_position": null,
            "object_fit": null,
            "grid_auto_columns": null,
            "margin": null,
            "display": null,
            "left": null
          }
        },
        "b95a7aee13244ddea0abefe5618195ad": {
          "model_module": "@jupyter-widgets/controls",
          "model_name": "FloatProgressModel",
          "state": {
            "_view_name": "ProgressView",
            "style": "IPY_MODEL_db5d8dfcdd004ac0bbb5142725da4f50",
            "_dom_classes": [],
            "description": "100%",
            "_model_name": "FloatProgressModel",
            "bar_style": "success",
            "max": 1680,
            "_view_module": "@jupyter-widgets/controls",
            "_model_module_version": "1.5.0",
            "value": 1680,
            "_view_count": null,
            "_view_module_version": "1.5.0",
            "orientation": "horizontal",
            "min": 0,
            "description_tooltip": null,
            "_model_module": "@jupyter-widgets/controls",
            "layout": "IPY_MODEL_41a42b64f5e34cbaa0bab1fc8f620192"
          }
        },
        "f0484d53c00e4aa19cb7e6520c9ca75d": {
          "model_module": "@jupyter-widgets/controls",
          "model_name": "HTMLModel",
          "state": {
            "_view_name": "HTMLView",
            "style": "IPY_MODEL_3c98308d5b424de79df93434da63912c",
            "_dom_classes": [],
            "description": "",
            "_model_name": "HTMLModel",
            "placeholder": "​",
            "_view_module": "@jupyter-widgets/controls",
            "_model_module_version": "1.5.0",
            "value": " 1680/1680 [01:10&lt;00:00, 23.69ex/s]",
            "_view_count": null,
            "_view_module_version": "1.5.0",
            "description_tooltip": null,
            "_model_module": "@jupyter-widgets/controls",
            "layout": "IPY_MODEL_8ea5fb339ee24d2289d3edc0977b08e9"
          }
        },
        "db5d8dfcdd004ac0bbb5142725da4f50": {
          "model_module": "@jupyter-widgets/controls",
          "model_name": "ProgressStyleModel",
          "state": {
            "_view_name": "StyleView",
            "_model_name": "ProgressStyleModel",
            "description_width": "initial",
            "_view_module": "@jupyter-widgets/base",
            "_model_module_version": "1.5.0",
            "_view_count": null,
            "_view_module_version": "1.2.0",
            "bar_color": null,
            "_model_module": "@jupyter-widgets/controls"
          }
        },
        "41a42b64f5e34cbaa0bab1fc8f620192": {
          "model_module": "@jupyter-widgets/base",
          "model_name": "LayoutModel",
          "state": {
            "_view_name": "LayoutView",
            "grid_template_rows": null,
            "right": null,
            "justify_content": null,
            "_view_module": "@jupyter-widgets/base",
            "overflow": null,
            "_model_module_version": "1.2.0",
            "_view_count": null,
            "flex_flow": null,
            "width": null,
            "min_width": null,
            "border": null,
            "align_items": null,
            "bottom": null,
            "_model_module": "@jupyter-widgets/base",
            "top": null,
            "grid_column": null,
            "overflow_y": null,
            "overflow_x": null,
            "grid_auto_flow": null,
            "grid_area": null,
            "grid_template_columns": null,
            "flex": null,
            "_model_name": "LayoutModel",
            "justify_items": null,
            "grid_row": null,
            "max_height": null,
            "align_content": null,
            "visibility": null,
            "align_self": null,
            "height": null,
            "min_height": null,
            "padding": null,
            "grid_auto_rows": null,
            "grid_gap": null,
            "max_width": null,
            "order": null,
            "_view_module_version": "1.2.0",
            "grid_template_areas": null,
            "object_position": null,
            "object_fit": null,
            "grid_auto_columns": null,
            "margin": null,
            "display": null,
            "left": null
          }
        },
        "3c98308d5b424de79df93434da63912c": {
          "model_module": "@jupyter-widgets/controls",
          "model_name": "DescriptionStyleModel",
          "state": {
            "_view_name": "StyleView",
            "_model_name": "DescriptionStyleModel",
            "description_width": "",
            "_view_module": "@jupyter-widgets/base",
            "_model_module_version": "1.5.0",
            "_view_count": null,
            "_view_module_version": "1.2.0",
            "_model_module": "@jupyter-widgets/controls"
          }
        },
        "8ea5fb339ee24d2289d3edc0977b08e9": {
          "model_module": "@jupyter-widgets/base",
          "model_name": "LayoutModel",
          "state": {
            "_view_name": "LayoutView",
            "grid_template_rows": null,
            "right": null,
            "justify_content": null,
            "_view_module": "@jupyter-widgets/base",
            "overflow": null,
            "_model_module_version": "1.2.0",
            "_view_count": null,
            "flex_flow": null,
            "width": null,
            "min_width": null,
            "border": null,
            "align_items": null,
            "bottom": null,
            "_model_module": "@jupyter-widgets/base",
            "top": null,
            "grid_column": null,
            "overflow_y": null,
            "overflow_x": null,
            "grid_auto_flow": null,
            "grid_area": null,
            "grid_template_columns": null,
            "flex": null,
            "_model_name": "LayoutModel",
            "justify_items": null,
            "grid_row": null,
            "max_height": null,
            "align_content": null,
            "visibility": null,
            "align_self": null,
            "height": null,
            "min_height": null,
            "padding": null,
            "grid_auto_rows": null,
            "grid_gap": null,
            "max_width": null,
            "order": null,
            "_view_module_version": "1.2.0",
            "grid_template_areas": null,
            "object_position": null,
            "object_fit": null,
            "grid_auto_columns": null,
            "margin": null,
            "display": null,
            "left": null
          }
        }
      }
    }
  },
  "cells": [
    {
      "cell_type": "markdown",
      "metadata": {
        "id": "view-in-github",
        "colab_type": "text"
      },
      "source": [
        "<a href=\"https://colab.research.google.com/github/patrickvonplaten/notebooks/blob/master/Fine_tuning_Wav2Vec2_for_English_ASR.ipynb\" target=\"_parent\"><img src=\"https://colab.research.google.com/assets/colab-badge.svg\" alt=\"Open In Colab\"/></a>"
      ]
    },
    {
      "cell_type": "markdown",
      "metadata": {
        "id": "LBSYoWbi-45k"
      },
      "source": [
        "# **Fine-tuning Wav2Vec2 for English ASR with 🤗 Transformers**"
      ]
    },
    {
      "cell_type": "markdown",
      "metadata": {
        "id": "V7YOT2mnUiea"
      },
      "source": [
        "Wav2Vec2 is a pretrained model for Automatic Speech Recognition (ASR) and was released in [September 2020](https://ai.facebook.com/blog/wav2vec-20-learning-the-structure-of-speech-from-raw-audio/) by Alexei Baevski, Michael Auli, and Alex Conneau.\n",
        "\n",
        "Using a novel contrastive pretraining objective, Wav2Vec2 learns powerful speech representations from more than 50.000 hours of unlabeled speech. Similar, to [BERT's masked language modeling](http://jalammar.github.io/illustrated-bert/), the model learns contextualized speech representations by randomly masking feature vectors before passing them to a transformer network.\n",
        "\n",
        "![wav2vec2_structure](https://raw.githubusercontent.com/patrickvonplaten/scientific_images/master/wav2vec2.png)\n",
        "\n",
        "For the first time, it has been shown that pretraining, followed by fine-tuning on very little labeled speech data achieves competitive results to state-of-the-art ASR systems. Using as little as 10 minutes of labeled data, Wav2Vec2 yields a word error rate (WER) of less than 5% on the clean test set of [LibriSpeech](https://huggingface.co/datasets/librispeech_asr) - *cf.* with Table 9 of the [paper](https://arxiv.org/pdf/2006.11477.pdf)."
      ]
    },
    {
      "cell_type": "markdown",
      "metadata": {
        "id": "nT_QrfWtsxIz"
      },
      "source": [
        "In this notebook, we will give an in-detail explanation of how Wav2Vec2's pretrained checkpoints can be fine-tuned on any English ASR dataset. Note that in this notebook, we will fine-tune Wav2Vec2 without making use of a language model. It is much simpler to use Wav2Vec2 without a language model as an end-to-end ASR system and it has been shown that a standalone Wav2Vec2 acoustic model achieves impressive results. For demonstration purposes, we fine-tune the \"base\"-sized [pretrained checkpoint](https://huggingface.co/facebook/wav2vec2-base) on the rather small [Timit](https://huggingface.co/datasets/timit_asr) dataset that contains just 5h of training data."
      ]
    },
    {
      "cell_type": "markdown",
      "metadata": {
        "id": "Gx9OdDYrCtQ1"
      },
      "source": [
        "Wav2Vec2 is fine-tuned using Connectionist Temporal Classification (CTC), which is an algorithm that is used to train neural networks for sequence-to-sequence problems and mainly in Automatic Speech Recognition and handwriting recognition. \n",
        "\n",
        "I highly recommend reading the blog post [Sequence Modeling with CTC (2017)](https://distill.pub/2017/ctc/) very well-written blog post by Awni Hannun."
      ]
    },
    {
      "cell_type": "markdown",
      "metadata": {
        "id": "e335hPmdtASZ"
      },
      "source": [
        "Before we start, let's install both `datasets` and `transformers` from master. Also, we need the `soundfile` package to load audio files and the `jiwer` to evaluate our fine-tuned model using the [word error rate (WER)](https://huggingface.co/metrics/wer) metric ${}^1$."
      ]
    },
    {
      "cell_type": "code",
      "metadata": {
        "id": "c8eh87Hoee5d"
      },
      "source": [
        "%%capture\n",
        "!pip install git+https://github.com/huggingface/datasets.git\n",
        "!pip install git+https://github.com/huggingface/transformers.git\n",
        "!pip install soundfile\n",
        "!pip install jiwer"
      ],
      "execution_count": null,
      "outputs": []
    },
    {
      "cell_type": "markdown",
      "metadata": {
        "id": "Mn9swf6EQ9Vd"
      },
      "source": [
        "\n",
        "\n",
        "\n",
        "---\n",
        "\n",
        "${}^1$ Timit is usually evaluated using the phoneme error rate (PER), but by far the most common metric in ASR is the word error rate (WER). To keep this notebook as general as possible we decided to evaluate the model using WER."
      ]
    },
    {
      "cell_type": "markdown",
      "metadata": {
        "id": "0mW-C1Nt-j7k"
      },
      "source": [
        "## Prepare Data, Tokenizer, Feature Extractor"
      ]
    },
    {
      "cell_type": "markdown",
      "metadata": {
        "id": "BeBosnY9BH3e"
      },
      "source": [
        "ASR models transcribe speech to text, which means that we both need a feature extractor that processes the speech signal to the model's input format, *e.g.* a feature vector, and a tokenizer that processes the model's output format to text. \n",
        "\n",
        "In 🤗 Transformers, the Wav2Vec2 model is thus accompanied by both a tokenizer, called [Wav2Vec2CTCTokenizer](https://huggingface.co/transformers/master/model_doc/wav2vec2.html#wav2vec2ctctokenizer), and a feature extractor, called [Wav2Vec2FeatureExtractor](https://huggingface.co/transformers/master/model_doc/wav2vec2.html#wav2vec2featureextractor).\n",
        "\n",
        "Let's start by creating the tokenizer responsible for decoding the model's predictions."
      ]
    },
    {
      "cell_type": "markdown",
      "metadata": {
        "id": "sEXEWEJGQPqD"
      },
      "source": [
        "### Create Wav2Vec2CTCTokenizer"
      ]
    },
    {
      "cell_type": "markdown",
      "metadata": {
        "id": "tWmMikuNEKl_"
      },
      "source": [
        "The [pretrained Wav2Vec2 checkpoint]( ) maps the speech signal to a sequence of context representations as illustrated in the figure above. A fine-tuned Wav2Vec2 checkpoint needs to map this sequence of context representations to its corresponding transcription so that a linear layer has to be added on top of the transformer block (shown in yellow). This linear layer is used to classifies each context representation to a token class analogous how, *e.g.*, after pretraining a linear layer is added on top of BERT's embeddings for further classification - *cf.* with *\"BERT\"* section of this [blog post](https://huggingface.co/blog/warm-starting-encoder-decoder).\n",
        "\n",
        "The output size of this layer corresponds to the number of tokens in the vocabulary, which does **not** depend on Wav2Vec2's pretraining task, but only on the labeled dataset used for fine-tuning. So in the first step, we will take a look at Timit and define a vocabulary based on the dataset's transcriptions."
      ]
    },
    {
      "cell_type": "markdown",
      "metadata": {
        "id": "bee4g9rpLxll"
      },
      "source": [
        "Let's start by loading the dataset and taking a look at its structure."
      ]
    },
    {
      "cell_type": "code",
      "metadata": {
        "id": "2MMXcWFFgCXU",
        "colab": {
          "base_uri": "https://localhost:8080/"
        },
        "outputId": "552b5d57-ad6f-4383-fadc-506bdd4bfe22"
      },
      "source": [
        "from datasets import load_dataset, load_metric\n",
        "\n",
        "timit = load_dataset(\"timit_asr\")"
      ],
      "execution_count": null,
      "outputs": [
        {
          "output_type": "stream",
          "text": [
            "Reusing dataset timit_asr (/root/.cache/huggingface/datasets/timit_asr/clean/2.0.1/e7245f262bb418c1a5c67d67e00297322b1ad19eb65223676b790aa8003449e4)\n"
          ],
          "name": "stderr"
        }
      ]
    },
    {
      "cell_type": "code",
      "metadata": {
        "colab": {
          "base_uri": "https://localhost:8080/"
        },
        "id": "QbIM-L0xdvf4",
        "outputId": "7a6addd6-684e-4e41-8d78-dedaaf209caf"
      },
      "source": [
        "timit"
      ],
      "execution_count": null,
      "outputs": [
        {
          "output_type": "execute_result",
          "data": {
            "text/plain": [
              "DatasetDict({\n",
              "    train: Dataset({\n",
              "        features: ['file', 'text', 'phonetic_detail', 'word_detail', 'dialect_region', 'sentence_type', 'speaker_id', 'id'],\n",
              "        num_rows: 4620\n",
              "    })\n",
              "    test: Dataset({\n",
              "        features: ['file', 'text', 'phonetic_detail', 'word_detail', 'dialect_region', 'sentence_type', 'speaker_id', 'id'],\n",
              "        num_rows: 1680\n",
              "    })\n",
              "})"
            ]
          },
          "metadata": {
            "tags": []
          },
          "execution_count": 134
        }
      ]
    },
    {
      "cell_type": "markdown",
      "metadata": {
        "id": "ri5y5N_HMANq"
      },
      "source": [
        "Many ASR datasets only provide the target text, `'text'` for each audio file `'file'`. Timit actually provides much more information about each audio file, such as the `'phonetic_detail'`, etc., which is why many researchers choose to evaluate their models on phoneme classification instead of speech recognition when working with Timit. However, we want to keep the notebook as general as possible, so that we will only consider the transcribed text for fine-tuning.\n",
        "\n"
      ]
    },
    {
      "cell_type": "code",
      "metadata": {
        "id": "kbyq6lDgQc2a"
      },
      "source": [
        "timit = timit.remove_columns([\"phonetic_detail\", \"word_detail\", \"dialect_region\", \"id\", \"sentence_type\", \"speaker_id\"])"
      ],
      "execution_count": null,
      "outputs": []
    },
    {
      "cell_type": "markdown",
      "metadata": {
        "id": "Go9Hq4e4NDT9"
      },
      "source": [
        "Let's write a short function to display some random samples of the dataset and run it a couple of times to get a feeling for the transcriptions."
      ]
    },
    {
      "cell_type": "code",
      "metadata": {
        "id": "72737oog2F6U"
      },
      "source": [
        "from datasets import ClassLabel\n",
        "import random\n",
        "import pandas as pd\n",
        "from IPython.display import display, HTML\n",
        "\n",
        "def show_random_elements(dataset, num_examples=10):\n",
        "    assert num_examples <= len(dataset), \"Can't pick more elements than there are in the dataset.\"\n",
        "    picks = []\n",
        "    for _ in range(num_examples):\n",
        "        pick = random.randint(0, len(dataset)-1)\n",
        "        while pick in picks:\n",
        "            pick = random.randint(0, len(dataset)-1)\n",
        "        picks.append(pick)\n",
        "    \n",
        "    df = pd.DataFrame(dataset[picks])\n",
        "    display(HTML(df.to_html()))"
      ],
      "execution_count": null,
      "outputs": []
    },
    {
      "cell_type": "code",
      "metadata": {
        "colab": {
          "base_uri": "https://localhost:8080/",
          "height": 669
        },
        "id": "K_JUmf3G3b9S",
        "outputId": "5502285b-0cc8-4d8f-b80e-212861a5c3e3"
      },
      "source": [
        "show_random_elements(timit[\"train\"].remove_columns([\"file\"]), num_examples=20)"
      ],
      "execution_count": null,
      "outputs": [
        {
          "output_type": "display_data",
          "data": {
            "text/html": [
              "<table border=\"1\" class=\"dataframe\">\n",
              "  <thead>\n",
              "    <tr style=\"text-align: right;\">\n",
              "      <th></th>\n",
              "      <th>text</th>\n",
              "    </tr>\n",
              "  </thead>\n",
              "  <tbody>\n",
              "    <tr>\n",
              "      <th>0</th>\n",
              "      <td>Who took the kayak down the bayou?</td>\n",
              "    </tr>\n",
              "    <tr>\n",
              "      <th>1</th>\n",
              "      <td>As such it acts as an anchor for the people.</td>\n",
              "    </tr>\n",
              "    <tr>\n",
              "      <th>2</th>\n",
              "      <td>She had your dark suit in greasy wash water all year.</td>\n",
              "    </tr>\n",
              "    <tr>\n",
              "      <th>3</th>\n",
              "      <td>We're not drunkards, she said.</td>\n",
              "    </tr>\n",
              "    <tr>\n",
              "      <th>4</th>\n",
              "      <td>The most recent geological survey found seismic activity.</td>\n",
              "    </tr>\n",
              "    <tr>\n",
              "      <th>5</th>\n",
              "      <td>Alimony harms a divorced man's wealth.</td>\n",
              "    </tr>\n",
              "    <tr>\n",
              "      <th>6</th>\n",
              "      <td>Our entire economy will have a terrific uplift.</td>\n",
              "    </tr>\n",
              "    <tr>\n",
              "      <th>7</th>\n",
              "      <td>Don't ask me to carry an oily rag like that.</td>\n",
              "    </tr>\n",
              "    <tr>\n",
              "      <th>8</th>\n",
              "      <td>The gorgeous butterfly ate a lot of nectar.</td>\n",
              "    </tr>\n",
              "    <tr>\n",
              "      <th>9</th>\n",
              "      <td>The high security prison was surrounded by barbed wire.</td>\n",
              "    </tr>\n",
              "    <tr>\n",
              "      <th>10</th>\n",
              "      <td>They've never met, you know.</td>\n",
              "    </tr>\n",
              "    <tr>\n",
              "      <th>11</th>\n",
              "      <td>She had your dark suit in greasy wash water all year.</td>\n",
              "    </tr>\n",
              "    <tr>\n",
              "      <th>12</th>\n",
              "      <td>She had your dark suit in greasy wash water all year.</td>\n",
              "    </tr>\n",
              "    <tr>\n",
              "      <th>13</th>\n",
              "      <td>The water contained too much chlorine and stung his eyes.</td>\n",
              "    </tr>\n",
              "    <tr>\n",
              "      <th>14</th>\n",
              "      <td>Leave me your address.</td>\n",
              "    </tr>\n",
              "    <tr>\n",
              "      <th>15</th>\n",
              "      <td>Penguins live near the icy Antarctic.</td>\n",
              "    </tr>\n",
              "    <tr>\n",
              "      <th>16</th>\n",
              "      <td>Cory attacked the project with extra determination.</td>\n",
              "    </tr>\n",
              "    <tr>\n",
              "      <th>17</th>\n",
              "      <td>That stinging vapor was caused by chloride vaporization.</td>\n",
              "    </tr>\n",
              "    <tr>\n",
              "      <th>18</th>\n",
              "      <td>Take charge of choosing her bride's maids' gowns.</td>\n",
              "    </tr>\n",
              "    <tr>\n",
              "      <th>19</th>\n",
              "      <td>Porcupines resemble sea urchins.</td>\n",
              "    </tr>\n",
              "  </tbody>\n",
              "</table>"
            ],
            "text/plain": [
              "<IPython.core.display.HTML object>"
            ]
          },
          "metadata": {
            "tags": []
          }
        }
      ]
    },
    {
      "cell_type": "markdown",
      "metadata": {
        "id": "fowcOllGNNju"
      },
      "source": [
        "Alright! The transcriptions look very clean and the language seems to correspond more to written text than dialogue. This makes sense taking into account that [Timit](https://huggingface.co/datasets/timit_asr) is a read speech corpus."
      ]
    },
    {
      "cell_type": "markdown",
      "metadata": {
        "id": "vq7OR50LN49m"
      },
      "source": [
        "We can see that the transcriptions contain some special characters, such as `,.?!;:`. Without a language model, it is much harder to classify speech chunks to such special characters because they don't really correspond to a characteristic sound unit. *E.g.*, the letter `\"s\"` has a more or less clear sound, whereas the special character `\".\"` does not.\n",
        "Also in order to understand the meaning of a speech signal, it is usually not necessary to include special characters in the transcription.\n",
        "\n",
        "In addition, we normalize the text to only have lower case letters."
      ]
    },
    {
      "cell_type": "code",
      "metadata": {
        "id": "svKzVJ_hQGK6"
      },
      "source": [
        "import re\n",
        "chars_to_ignore_regex = '[\\,\\?\\.\\!\\-\\;\\:\\\"]'\n",
        "\n",
        "def remove_special_characters(batch):\n",
        "    batch[\"text\"] = re.sub(chars_to_ignore_regex, '', batch[\"text\"]).lower()\n",
        "    return batch"
      ],
      "execution_count": null,
      "outputs": []
    },
    {
      "cell_type": "code",
      "metadata": {
        "colab": {
          "base_uri": "https://localhost:8080/"
        },
        "id": "XIHocAuTQbBR",
        "outputId": "5542cd67-240b-4819-ff49-49f65f593559"
      },
      "source": [
        "timit = timit.map(remove_special_characters)"
      ],
      "execution_count": null,
      "outputs": [
        {
          "output_type": "stream",
          "text": [
            "Loading cached processed dataset at /root/.cache/huggingface/datasets/timit_asr/clean/2.0.1/e7245f262bb418c1a5c67d67e00297322b1ad19eb65223676b790aa8003449e4/cache-8786d042d93f5901.arrow\n",
            "Loading cached processed dataset at /root/.cache/huggingface/datasets/timit_asr/clean/2.0.1/e7245f262bb418c1a5c67d67e00297322b1ad19eb65223676b790aa8003449e4/cache-73fb97b02c12a61d.arrow\n"
          ],
          "name": "stderr"
        }
      ]
    },
    {
      "cell_type": "code",
      "metadata": {
        "colab": {
          "base_uri": "https://localhost:8080/",
          "height": 359
        },
        "id": "RBDRAAYxRE6n",
        "outputId": "7580c7f7-cf40-49a7-8bb7-963e598c06d9"
      },
      "source": [
        "show_random_elements(timit[\"train\"].remove_columns([\"file\"]))"
      ],
      "execution_count": null,
      "outputs": [
        {
          "output_type": "display_data",
          "data": {
            "text/html": [
              "<table border=\"1\" class=\"dataframe\">\n",
              "  <thead>\n",
              "    <tr style=\"text-align: right;\">\n",
              "      <th></th>\n",
              "      <th>text</th>\n",
              "    </tr>\n",
              "  </thead>\n",
              "  <tbody>\n",
              "    <tr>\n",
              "      <th>0</th>\n",
              "      <td>anyhow it was high time the boy was salted</td>\n",
              "    </tr>\n",
              "    <tr>\n",
              "      <th>1</th>\n",
              "      <td>their basis seems deeper than mere authority</td>\n",
              "    </tr>\n",
              "    <tr>\n",
              "      <th>2</th>\n",
              "      <td>only the best players enjoy popularity</td>\n",
              "    </tr>\n",
              "    <tr>\n",
              "      <th>3</th>\n",
              "      <td>tornados often destroy acres of farm land</td>\n",
              "    </tr>\n",
              "    <tr>\n",
              "      <th>4</th>\n",
              "      <td>where're you takin' me</td>\n",
              "    </tr>\n",
              "    <tr>\n",
              "      <th>5</th>\n",
              "      <td>soak up local color</td>\n",
              "    </tr>\n",
              "    <tr>\n",
              "      <th>6</th>\n",
              "      <td>satellites sputniks rockets balloons what next</td>\n",
              "    </tr>\n",
              "    <tr>\n",
              "      <th>7</th>\n",
              "      <td>i gave them several choices and let them set the priorities</td>\n",
              "    </tr>\n",
              "    <tr>\n",
              "      <th>8</th>\n",
              "      <td>reading in poor light gives you eyestrain</td>\n",
              "    </tr>\n",
              "    <tr>\n",
              "      <th>9</th>\n",
              "      <td>that dog chases cats mercilessly</td>\n",
              "    </tr>\n",
              "  </tbody>\n",
              "</table>"
            ],
            "text/plain": [
              "<IPython.core.display.HTML object>"
            ]
          },
          "metadata": {
            "tags": []
          }
        }
      ]
    },
    {
      "cell_type": "markdown",
      "metadata": {
        "id": "jwfaptH5RJwA"
      },
      "source": [
        "Good! This looks better. We have removed most special characters from transcriptions and normalized them to lower-case only.\n",
        "\n",
        "In CTC, it is common to classify speech chunks into letters, so we will do the same here. \n",
        "Let's extract all distinct letters of the training and test data and build our vocabulary from this set of letters.\n",
        "\n",
        "We write a mapping function that concatenates all transcriptions into one long transcription and then transforms the string into a set of chars. \n",
        "It is important to pass the argument `batched=True` to the `map(...)` function so that the mapping function has access to all transcriptions at once."
      ]
    },
    {
      "cell_type": "code",
      "metadata": {
        "id": "LwCshNbbeRZR"
      },
      "source": [
        "def extract_all_chars(batch):\n",
        "  all_text = \" \".join(batch[\"text\"])\n",
        "  vocab = list(set(all_text))\n",
        "  return {\"vocab\": [vocab], \"all_text\": [all_text]}"
      ],
      "execution_count": null,
      "outputs": []
    },
    {
      "cell_type": "code",
      "metadata": {
        "colab": {
          "base_uri": "https://localhost:8080/",
          "height": 117,
          "referenced_widgets": [
            "5f2ed798b2674fd98052ced2faae3aa9",
            "9a81ad54827f47bd8f2a8453a50e706f",
            "940b86f6edca4cecad67b6f6872c39e1",
            "afee4f92343c4be28de297aca4a29505",
            "0a849afcd78842f98c0471c32866fcb8",
            "3298d9de17264aa4ac576b073e32db10",
            "2034de6f09014ee8b458066445444b04",
            "d13d3b5fd2424691b79cd229f8fd4f6f",
            "bc3f9aa79c0a4e9f85fdff7307fa1d1b",
            "69355cf02bae416a9d5fd890fb41d78b",
            "5a2c824fd0f24084a750d2ecd1d9401b",
            "6e23c99a8e6a47faa5f9ee487ad7f920",
            "37051888a8d941f9b9c823ed68b1fbb4",
            "ffb6112b3ebf4bc7b73aa169dfc6792c",
            "8adc6f69164b4090b63e7765afcf8be3",
            "01523f050e044715b493b1e17ace2ce2"
          ]
        },
        "id": "_m6uUjjcfbjH",
        "outputId": "49b69019-0f91-4d73-c19d-61542d1a7f7e"
      },
      "source": [
        "vocabs = timit.map(extract_all_chars, batched=True, batch_size=-1, keep_in_memory=True, remove_columns=timit.column_names[\"train\"])"
      ],
      "execution_count": null,
      "outputs": [
        {
          "output_type": "display_data",
          "data": {
            "application/vnd.jupyter.widget-view+json": {
              "model_id": "5f2ed798b2674fd98052ced2faae3aa9",
              "version_minor": 0,
              "version_major": 2
            },
            "text/plain": [
              "HBox(children=(FloatProgress(value=0.0, max=1.0), HTML(value='')))"
            ]
          },
          "metadata": {
            "tags": []
          }
        },
        {
          "output_type": "stream",
          "text": [
            "\n"
          ],
          "name": "stdout"
        },
        {
          "output_type": "display_data",
          "data": {
            "application/vnd.jupyter.widget-view+json": {
              "model_id": "bc3f9aa79c0a4e9f85fdff7307fa1d1b",
              "version_minor": 0,
              "version_major": 2
            },
            "text/plain": [
              "HBox(children=(FloatProgress(value=0.0, max=1.0), HTML(value='')))"
            ]
          },
          "metadata": {
            "tags": []
          }
        },
        {
          "output_type": "stream",
          "text": [
            "\n"
          ],
          "name": "stdout"
        }
      ]
    },
    {
      "cell_type": "markdown",
      "metadata": {
        "id": "7oVgE8RZSJNP"
      },
      "source": [
        "Now, we create the union of all distinct letters in the training dataset and test dataset and convert the resulting list into an enumerated dictionary."
      ]
    },
    {
      "cell_type": "code",
      "metadata": {
        "id": "aQfneNsmlJI0"
      },
      "source": [
        "vocab_list = list(set(vocabs[\"train\"][\"vocab\"][0]) | set(vocabs[\"test\"][\"vocab\"][0]))"
      ],
      "execution_count": null,
      "outputs": []
    },
    {
      "cell_type": "code",
      "metadata": {
        "colab": {
          "base_uri": "https://localhost:8080/"
        },
        "id": "_0kRndSvqaKk",
        "outputId": "352477a8-4d15-4af8-c626-841e6d6775a2"
      },
      "source": [
        "vocab_dict = {v: k for k, v in enumerate(vocab_list)}\n",
        "vocab_dict"
      ],
      "execution_count": null,
      "outputs": [
        {
          "output_type": "execute_result",
          "data": {
            "text/plain": [
              "{' ': 21,\n",
              " \"'\": 13,\n",
              " 'a': 24,\n",
              " 'b': 17,\n",
              " 'c': 25,\n",
              " 'd': 2,\n",
              " 'e': 9,\n",
              " 'f': 14,\n",
              " 'g': 22,\n",
              " 'h': 8,\n",
              " 'i': 4,\n",
              " 'j': 18,\n",
              " 'k': 5,\n",
              " 'l': 16,\n",
              " 'm': 6,\n",
              " 'n': 7,\n",
              " 'o': 10,\n",
              " 'p': 19,\n",
              " 'q': 3,\n",
              " 'r': 20,\n",
              " 's': 11,\n",
              " 't': 0,\n",
              " 'u': 26,\n",
              " 'v': 27,\n",
              " 'w': 1,\n",
              " 'x': 23,\n",
              " 'y': 15,\n",
              " 'z': 12}"
            ]
          },
          "metadata": {
            "tags": []
          },
          "execution_count": 144
        }
      ]
    },
    {
      "cell_type": "markdown",
      "metadata": {
        "id": "JOSzbvs9SXT1"
      },
      "source": [
        "Cool, we see that all letters of the alphabet occur in the dataset (which is not really surprising) and we also extracted the special characters `\" \"` and `'`. Note that we did not exclude those special characters because: \n",
        "\n",
        "- The model has to learn to predict when a word finished or else the model prediction would always be a sequence of chars which would make it impossible to separate words from each other.\n",
        "- In English, we need to keep the `'` character to differentiate between words, *e.g.*, `\"it's\"` and `\"its\"` which have very different meanings."
      ]
    },
    {
      "cell_type": "markdown",
      "metadata": {
        "id": "b1fBRCn-TRaO"
      },
      "source": [
        "To make it clearer that `\" \"` has its own token class, we give it a more visible character `|`. In addition, we also add an \"unknown\" token so that the model can later deal with characters not encountered in Timit's training set. \n",
        "\n",
        "Finally, we also add a padding token that corresponds to CTC's \"*blank token*\". The \"blank token\" is a core component of the CTC algorithm. For more information, please take a look at the \"Alignment\" section [here](https://distill.pub/2017/ctc/)."
      ]
    },
    {
      "cell_type": "code",
      "metadata": {
        "id": "npbIbBoLgaFX"
      },
      "source": [
        "vocab_dict[\"|\"] = vocab_dict[\" \"]\n",
        "del vocab_dict[\" \"]"
      ],
      "execution_count": null,
      "outputs": []
    },
    {
      "cell_type": "code",
      "metadata": {
        "id": "znF0bNunsjbl",
        "colab": {
          "base_uri": "https://localhost:8080/"
        },
        "outputId": "0ec0ba82-367d-480b-cae2-2d0fe45e34c6"
      },
      "source": [
        "vocab_dict[\"[UNK]\"] = len(vocab_dict)\n",
        "vocab_dict[\"[PAD]\"] = len(vocab_dict)\n",
        "len(vocab_dict)"
      ],
      "execution_count": null,
      "outputs": [
        {
          "output_type": "execute_result",
          "data": {
            "text/plain": [
              "30"
            ]
          },
          "metadata": {
            "tags": []
          },
          "execution_count": 146
        }
      ]
    },
    {
      "cell_type": "markdown",
      "metadata": {
        "id": "SFPGfet8U5sL"
      },
      "source": [
        "Cool, now our vocabulary is complete and consists of 30 tokens, which means that the linear layer that we will add on top of the pretrained Wav2Vec2 checkpoint will have an output dimension of 30."
      ]
    },
    {
      "cell_type": "markdown",
      "metadata": {
        "id": "1CujRgBNVRaD"
      },
      "source": [
        "Let's now save the vocabulary as a json file."
      ]
    },
    {
      "cell_type": "code",
      "metadata": {
        "id": "ehyUoh9vk191"
      },
      "source": [
        "import json\n",
        "with open('vocab.json', 'w') as vocab_file:\n",
        "    json.dump(vocab_dict, vocab_file)"
      ],
      "execution_count": null,
      "outputs": []
    },
    {
      "cell_type": "markdown",
      "metadata": {
        "id": "SHJDaKlIVVim"
      },
      "source": [
        "In a final step, we use the json file to instantiate an object of the `Wav2Vec2CTCTokenizer` class."
      ]
    },
    {
      "cell_type": "code",
      "metadata": {
        "id": "xriFGEWQkO4M"
      },
      "source": [
        "from transformers import Wav2Vec2CTCTokenizer\n",
        "\n",
        "tokenizer = Wav2Vec2CTCTokenizer(\"./vocab.json\", unk_token=\"[UNK]\", pad_token=\"[PAD]\", word_delimiter_token=\"|\")"
      ],
      "execution_count": null,
      "outputs": []
    },
    {
      "cell_type": "markdown",
      "metadata": {
        "id": "KvL12DrNV4cx"
      },
      "source": [
        "Next, we will create the feature extractor."
      ]
    },
    {
      "cell_type": "markdown",
      "metadata": {
        "id": "mYcIiR2FQ96i"
      },
      "source": [
        "### Create Wav2Vec2 Feature Extractor"
      ]
    },
    {
      "cell_type": "markdown",
      "metadata": {
        "id": "Y6mDEyW719rx"
      },
      "source": [
        "Speech is a continuous signal and to be treated by computers, it first has to be discretized, which is usually called **sampling**. The sampling rate hereby plays an important role in that it defines how many data points of the speech signal are measured per second. Therefore, sampling with a higher sampling rate results in a better approximation of the *real* speech signal but also necessitates more values per second.\n",
        "\n",
        "A pretrained checkpoint expects its input data to have been sampled more or less from the same distribution as the data it was trained on. The same speech signals sampled at two different rates have a very different distribution, *e.g.*, doubling the sampling rate results in data points being twice as long. Thus, \n",
        "before fine-tuning a pretrained checkpoint of an ASR model, it is crucial to verify that the sampling rate of the data that was used to pretrain the model matches the sampling rate of the dataset used to fine-tune the model.\n",
        "\n",
        "Wav2Vec2 was pretrained on the audio data of [LibriSpeech](https://huggingface.co/datasets/librispeech_asr) and LibriVox which both were sampling with 16kHz. Our fine-tuning dataset, [Timit](hhtps://huggingface.co/datasets/timit_asr), was luckily also sampled with 16kHz. If the fine-tuning dataset would have been sampled with a rate lower or higher than 16kHz, we first would have had to up or downsample the speech signal to match the sampling rate of the data used for pretraining. \n",
        "\n"
      ]
    },
    {
      "cell_type": "markdown",
      "metadata": {
        "id": "KuUbPW7oV-B5"
      },
      "source": [
        "A Wav2Vec2 feature extractor object requires the following parameters to be instantiated:\n",
        "\n",
        "- `feature_size`: Speech models take a sequence of feature vectors as an input. While the length of this sequence obviously varies, the feature size should not. In the case of Wav2Vec2, the feature size is 1 because the model was trained on the raw speech signal ${}^2$.\n",
        "- `sampling_rate`: The sampling rate at which the model is trained on.\n",
        "- `padding_value`: For batched inference, shorter inputs need to be padded with a specific value\n",
        "- `do_normalize`: Whether the input should be *zero-mean-unit-variance* normalized or not. Usually, speech models perform better when normalizing the input\n",
        "- `return_attention_mask`: Whether the model should make use of an `attention_mask` for batched inference. In general, models should **always** make use of the `attention_mask` to mask padded tokens. However, due to a very specific design choice of `Wav2Vec2`'s \"base\" checkpoint, better results are achieved when using no `attention_mask`. This is **not** recommended for other speech models. For more information, one can take a look at [this](https://github.com/pytorch/fairseq/issues/3227) issue. **Important** If you want to use this notebook to fine-tune [large-lv60](https://huggingface.co/facebook/wav2vec2-large-lv60), this parameter should be set to `True`."
      ]
    },
    {
      "cell_type": "code",
      "metadata": {
        "id": "kAR0-2KLkopp"
      },
      "source": [
        "from transformers import Wav2Vec2FeatureExtractor\n",
        "\n",
        "feature_extractor = Wav2Vec2FeatureExtractor(feature_size=1, sampling_rate=16000, padding_value=0.0, do_normalize=True, return_attention_mask=False)"
      ],
      "execution_count": null,
      "outputs": []
    },
    {
      "cell_type": "markdown",
      "metadata": {
        "id": "qUETetgqYC3W"
      },
      "source": [
        "Great, Wav2Vec2's feature extraction pipeline is thereby fully defined!\n",
        "\n",
        "To make the usage of Wav2Vec2 as user-friendly as possible, the feature extractor and tokenizer are *wrapped* into a single `Wav2Vec2Processor` class so that one only needs a `model` and `processor` object."
      ]
    },
    {
      "cell_type": "code",
      "metadata": {
        "id": "KYZtoW-tlZgl"
      },
      "source": [
        "from transformers import Wav2Vec2Processor\n",
        "\n",
        "processor = Wav2Vec2Processor(feature_extractor=feature_extractor, tokenizer=tokenizer)"
      ],
      "execution_count": null,
      "outputs": []
    },
    {
      "cell_type": "markdown",
      "metadata": {
        "id": "fTfFDSS0YfMN"
      },
      "source": [
        "If one wants to re-use the just created processor and the fine-tuned model of this notebook, one can mount his/her google drive to the notebook and save all relevant files there. To do so, please uncomment the following lines. \n",
        "\n",
        "We will give the fine-tuned model the name `\"wav2vec2-base-timit-demo\"`."
      ]
    },
    {
      "cell_type": "code",
      "metadata": {
        "id": "yq7Bzuzz4zjQ"
      },
      "source": [
        "# from google.colab import drive\n",
        "# drive.mount('/content/gdrive/')"
      ],
      "execution_count": null,
      "outputs": []
    },
    {
      "cell_type": "code",
      "metadata": {
        "id": "Par9rpypPsml"
      },
      "source": [
        "# processor.save_pretrained(\"/content/gdrive/MyDrive/wav2vec2-base-timit-demo\")"
      ],
      "execution_count": null,
      "outputs": []
    },
    {
      "cell_type": "markdown",
      "metadata": {
        "id": "DrKnYuvDIoOO"
      },
      "source": [
        "Next, we can prepare the dataset."
      ]
    },
    {
      "cell_type": "markdown",
      "metadata": {
        "id": "YFmShnl7RE35"
      },
      "source": [
        "### Preprocess Data\n",
        "\n",
        "So far, we have not looked at the actual values of the speech signal but just kept the path to its file in the dataset. `Wav2Vec2` expects the audio file in the format of a 1-dimensional array, so in the first step, let's load all audio files into the dataset object.\n",
        "\n",
        "Let's first check the serialization format of the downloaded audio files by looking at the first training sample."
      ]
    },
    {
      "cell_type": "code",
      "metadata": {
        "colab": {
          "base_uri": "https://localhost:8080/"
        },
        "id": "TTCS7W6XJ9BG",
        "outputId": "0d02c51b-844f-4f2b-ff2c-d124317ced9d"
      },
      "source": [
        "timit[\"train\"][0]"
      ],
      "execution_count": null,
      "outputs": [
        {
          "output_type": "execute_result",
          "data": {
            "text/plain": [
              "{'file': '/root/.cache/huggingface/datasets/downloads/extracted/404950a46da14eac65eb4e2a8317b1372fb3971d980d91d5d5b221275b1fd7e0/data/TRAIN/DR4/MMDM0/SI681.WAV',\n",
              " 'text': 'would such an act of refusal be useful'}"
            ]
          },
          "metadata": {
            "tags": []
          },
          "execution_count": 153
        }
      ]
    },
    {
      "cell_type": "markdown",
      "metadata": {
        "id": "wSBIGEiaKHMn"
      },
      "source": [
        "Alright, the audio file is saved in the `.WAV` format. There are a couple of python-based libraries to read and process audio files, such as [librosa](https://github.com/librosa/librosa), [soundfile](https://github.com/bastibe/python-soundfile), and [audioread](https://github.com/beetbox/audioread). \n",
        "\n",
        "`librosa` seems to be the most active and prominent library, but since it depends on `soundfile` for loading of audio files, we will just use `soundfile` directly in this notebook.\n",
        "\n",
        "An audio file usually stores both its values and the sampling rate with which the speech signal was digitalized. We want to store both in the dataset and write a `map(...)` function accordingly."
      ]
    },
    {
      "cell_type": "code",
      "metadata": {
        "id": "al9Luo4LPpwJ"
      },
      "source": [
        "import soundfile as sf\n",
        "\n",
        "def speech_file_to_array_fn(batch):\n",
        "    speech_array, sampling_rate = sf.read(batch[\"file\"])\n",
        "    batch[\"speech\"] = speech_array\n",
        "    batch[\"sampling_rate\"] = sampling_rate\n",
        "    batch[\"target_text\"] = batch[\"text\"]\n",
        "    return batch"
      ],
      "execution_count": null,
      "outputs": []
    },
    {
      "cell_type": "code",
      "metadata": {
        "colab": {
          "base_uri": "https://localhost:8080/"
        },
        "id": "afeicUeWlrRL",
        "outputId": "8dfdc805-5a5a-4e70-8319-536ae60dd0e8"
      },
      "source": [
        "timit = timit.map(speech_file_to_array_fn, remove_columns=timit.column_names[\"train\"], num_proc=4)"
      ],
      "execution_count": null,
      "outputs": [
        {
          "output_type": "stream",
          "text": [
            "  "
          ],
          "name": "stdout"
        },
        {
          "output_type": "stream",
          "text": [
            "Loading cached processed dataset at /root/.cache/huggingface/datasets/timit_asr/clean/2.0.1/e7245f262bb418c1a5c67d67e00297322b1ad19eb65223676b790aa8003449e4/cache-d62364ad6c54348a.arrow\n",
            "Loading cached processed dataset at /root/.cache/huggingface/datasets/timit_asr/clean/2.0.1/e7245f262bb418c1a5c67d67e00297322b1ad19eb65223676b790aa8003449e4/cache-56cc1d7ddfadf361.arrow\n"
          ],
          "name": "stderr"
        },
        {
          "output_type": "stream",
          "text": [
            "  "
          ],
          "name": "stdout"
        },
        {
          "output_type": "stream",
          "text": [
            "Loading cached processed dataset at /root/.cache/huggingface/datasets/timit_asr/clean/2.0.1/e7245f262bb418c1a5c67d67e00297322b1ad19eb65223676b790aa8003449e4/cache-f216e24386e1da8c.arrow\n",
            "Loading cached processed dataset at /root/.cache/huggingface/datasets/timit_asr/clean/2.0.1/e7245f262bb418c1a5c67d67e00297322b1ad19eb65223676b790aa8003449e4/cache-b56673f39314d2ce.arrow\n"
          ],
          "name": "stderr"
        },
        {
          "output_type": "stream",
          "text": [
            " "
          ],
          "name": "stdout"
        },
        {
          "output_type": "stream",
          "text": [
            "Loading cached processed dataset at /root/.cache/huggingface/datasets/timit_asr/clean/2.0.1/e7245f262bb418c1a5c67d67e00297322b1ad19eb65223676b790aa8003449e4/cache-c9573eb9038002e4.arrow\n"
          ],
          "name": "stderr"
        },
        {
          "output_type": "stream",
          "text": [
            " "
          ],
          "name": "stdout"
        },
        {
          "output_type": "stream",
          "text": [
            "Loading cached processed dataset at /root/.cache/huggingface/datasets/timit_asr/clean/2.0.1/e7245f262bb418c1a5c67d67e00297322b1ad19eb65223676b790aa8003449e4/cache-2f52436b24902d38.arrow\n"
          ],
          "name": "stderr"
        },
        {
          "output_type": "stream",
          "text": [
            " "
          ],
          "name": "stdout"
        },
        {
          "output_type": "stream",
          "text": [
            "Loading cached processed dataset at /root/.cache/huggingface/datasets/timit_asr/clean/2.0.1/e7245f262bb418c1a5c67d67e00297322b1ad19eb65223676b790aa8003449e4/cache-6d02e1ff4d3e4ea0.arrow\n"
          ],
          "name": "stderr"
        },
        {
          "output_type": "stream",
          "text": [
            " "
          ],
          "name": "stdout"
        },
        {
          "output_type": "stream",
          "text": [
            "Loading cached processed dataset at /root/.cache/huggingface/datasets/timit_asr/clean/2.0.1/e7245f262bb418c1a5c67d67e00297322b1ad19eb65223676b790aa8003449e4/cache-e1ed1a5dbe9768c1.arrow\n"
          ],
          "name": "stderr"
        }
      ]
    },
    {
      "cell_type": "markdown",
      "metadata": {
        "id": "SOckzFd4Mbzq"
      },
      "source": [
        "Great, let's listen to a couple of audio files to better understand the dataset and verify that the audio was correctly loaded. \n",
        "\n",
        "**Note**: *You can click the following cell a couple of times to listen to different speech samples.*"
      ]
    },
    {
      "cell_type": "code",
      "metadata": {
        "colab": {
          "base_uri": "https://localhost:8080/",
          "height": 74
        },
        "id": "dueM6U7Ev0OA",
        "outputId": "30295196-e3bc-406a-9351-307460022f6b"
      },
      "source": [
        "import IPython.display as ipd\n",
        "import numpy as np\n",
        "import random\n",
        "\n",
        "rand_int = random.randint(0, len(timit[\"train\"]))\n",
        "\n",
        "ipd.Audio(data=np.asarray(timit[\"train\"][rand_int][\"speech\"]), autoplay=True, rate=16000)"
      ],
      "execution_count": null,
      "outputs": [
        {
          "output_type": "execute_result",
          "data": {
            "text/html": [
              "\n",
              "                <audio controls=\"controls\" autoplay=\"autoplay\">\n",
              "                    <source src=\"data:audio/wav;base64,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\" type=\"audio/wav\" />\n",
              "                    Your browser does not support the audio element.\n",
              "                </audio>\n",
              "              "
            ],
            "text/plain": [
              "<IPython.lib.display.Audio object>"
            ]
          },
          "metadata": {
            "tags": []
          },
          "execution_count": 156
        }
      ]
    },
    {
      "cell_type": "markdown",
      "metadata": {
        "id": "1MaL9J2dNVtG"
      },
      "source": [
        "It can be heard, that the speakers change along with their speaking rate, accent, etc. Overall, the recordings sound relatively clear though, which is to be expected from a read speech corpus.\n",
        "\n",
        "Let's do a final check that the data is correctly prepared, but printing the shape of the speech input, its transcription, and the corresponding sampling rate.\n",
        "\n",
        "**Note**: *You can click the following cell a couple of times to verify multiple samples.*"
      ]
    },
    {
      "cell_type": "code",
      "metadata": {
        "colab": {
          "base_uri": "https://localhost:8080/"
        },
        "id": "1Po2g7YPuRTx",
        "outputId": "89290291-18ab-41bc-b369-cafe9629060d"
      },
      "source": [
        "rand_int = random.randint(0, len(timit[\"train\"]))\n",
        "\n",
        "print(\"Target text:\", timit[\"train\"][rand_int][\"target_text\"])\n",
        "print(\"Input array shape:\", np.asarray(timit[\"train\"][rand_int][\"speech\"]).shape)\n",
        "print(\"Sampling rate:\", timit[\"train\"][rand_int][\"sampling_rate\"])"
      ],
      "execution_count": null,
      "outputs": [
        {
          "output_type": "stream",
          "text": [
            "Target text: she had your dark suit in greasy wash water all year\n",
            "Input array shape: (52941,)\n",
            "Sampling rate: 16000\n"
          ],
          "name": "stdout"
        }
      ]
    },
    {
      "cell_type": "markdown",
      "metadata": {
        "id": "M9teZcSwOBJ4"
      },
      "source": [
        "Good! Everything looks fine - the data is a 1-dimensional array, the sampling rate always corresponds to 16kHz, and the target text is normalized."
      ]
    },
    {
      "cell_type": "markdown",
      "metadata": {
        "id": "k3Pbn5WvOYZF"
      },
      "source": [
        "Finally, we can process the dataset to the format expected by the model for training. We will again make use of the `map(...)` function.\n",
        "\n",
        "First, we check that all data samples have the same sampling rate (of 16kHz).\n",
        "Second, we extract the `input_values` from the loaded audio file. In our case, this includes only normalization, but for other speech models, this step could correspond to extracting, *e.g.* [Log-Mel features](https://en.wikipedia.org/wiki/Mel-frequency_cepstrum). \n",
        "Third, we encode the transcriptions to label ids.\n",
        "\n",
        "**Note**: This mapping function is a good example of how the `Wav2Vec2Processor` class should be used. In \"normal\" context, calling `processor(...)` is redirected to `Wav2Vec2FeatureExtractor`'s call method. When wrapping the processor into the `as_target_processor` context, however, the same method is redirected to `Wav2Vec2CTCTokenizer`'s call method.\n",
        "For more information please check the [docs](https://huggingface.co/transformers/master/model_doc/wav2vec2.html#transformers.Wav2Vec2Processor.__call__)."
      ]
    },
    {
      "cell_type": "code",
      "metadata": {
        "id": "eJY7I0XAwe9p"
      },
      "source": [
        "def prepare_dataset(batch):\n",
        "    # check that all files have the correct sampling rate\n",
        "    assert (\n",
        "        len(set(batch[\"sampling_rate\"])) == 1\n",
        "    ), f\"Make sure all inputs have the same sampling rate of {processor.feature_extractor.sampling_rate}.\"\n",
        "\n",
        "    batch[\"input_values\"] = processor(batch[\"speech\"], sampling_rate=batch[\"sampling_rate\"][0]).input_values\n",
        "    \n",
        "    with processor.as_target_processor():\n",
        "        batch[\"labels\"] = processor(batch[\"target_text\"]).input_ids\n",
        "    return batch"
      ],
      "execution_count": null,
      "outputs": []
    },
    {
      "cell_type": "code",
      "metadata": {
        "colab": {
          "base_uri": "https://localhost:8080/"
        },
        "id": "-np9xYK-wl8q",
        "outputId": "0ec9790f-989b-4894-f2d1-88af97f4e962"
      },
      "source": [
        "timit_prepared = timit.map(prepare_dataset, remove_columns=timit.column_names[\"train\"], batch_size=8, num_proc=4, batched=True)"
      ],
      "execution_count": null,
      "outputs": [
        {
          "output_type": "stream",
          "text": [
            "/usr/local/lib/python3.7/dist-packages/numpy/core/_asarray.py:83: VisibleDeprecationWarning: Creating an ndarray from ragged nested sequences (which is a list-or-tuple of lists-or-tuples-or ndarrays with different lengths or shapes) is deprecated. If you meant to do this, you must specify 'dtype=object' when creating the ndarray\n",
            "  return array(a, dtype, copy=False, order=order)\n"
          ],
          "name": "stderr"
        },
        {
          "output_type": "stream",
          "text": [
            " "
          ],
          "name": "stdout"
        },
        {
          "output_type": "stream",
          "text": [
            "Loading cached processed dataset at /root/.cache/huggingface/datasets/timit_asr/clean/2.0.1/e7245f262bb418c1a5c67d67e00297322b1ad19eb65223676b790aa8003449e4/cache-3df281eef23bc3c1.arrow\n"
          ],
          "name": "stderr"
        },
        {
          "output_type": "stream",
          "text": [
            " "
          ],
          "name": "stdout"
        },
        {
          "output_type": "stream",
          "text": [
            "Loading cached processed dataset at /root/.cache/huggingface/datasets/timit_asr/clean/2.0.1/e7245f262bb418c1a5c67d67e00297322b1ad19eb65223676b790aa8003449e4/cache-52047d825659a924.arrow\n"
          ],
          "name": "stderr"
        },
        {
          "output_type": "stream",
          "text": [
            "  "
          ],
          "name": "stdout"
        },
        {
          "output_type": "stream",
          "text": [
            "Loading cached processed dataset at /root/.cache/huggingface/datasets/timit_asr/clean/2.0.1/e7245f262bb418c1a5c67d67e00297322b1ad19eb65223676b790aa8003449e4/cache-1f70d7c49783619f.arrow\n",
            "Loading cached processed dataset at /root/.cache/huggingface/datasets/timit_asr/clean/2.0.1/e7245f262bb418c1a5c67d67e00297322b1ad19eb65223676b790aa8003449e4/cache-936caf85ca041338.arrow\n"
          ],
          "name": "stderr"
        },
        {
          "output_type": "stream",
          "text": [
            " "
          ],
          "name": "stdout"
        },
        {
          "output_type": "stream",
          "text": [
            "Loading cached processed dataset at /root/.cache/huggingface/datasets/timit_asr/clean/2.0.1/e7245f262bb418c1a5c67d67e00297322b1ad19eb65223676b790aa8003449e4/cache-87a10c92f6977664.arrow\n"
          ],
          "name": "stderr"
        },
        {
          "output_type": "stream",
          "text": [
            "  "
          ],
          "name": "stdout"
        },
        {
          "output_type": "stream",
          "text": [
            "Loading cached processed dataset at /root/.cache/huggingface/datasets/timit_asr/clean/2.0.1/e7245f262bb418c1a5c67d67e00297322b1ad19eb65223676b790aa8003449e4/cache-33d22c0f5024ece3.arrow\n",
            "Loading cached processed dataset at /root/.cache/huggingface/datasets/timit_asr/clean/2.0.1/e7245f262bb418c1a5c67d67e00297322b1ad19eb65223676b790aa8003449e4/cache-6bc71fc1cb0ffdc7.arrow\n"
          ],
          "name": "stderr"
        },
        {
          "output_type": "stream",
          "text": [
            " "
          ],
          "name": "stdout"
        },
        {
          "output_type": "stream",
          "text": [
            "Loading cached processed dataset at /root/.cache/huggingface/datasets/timit_asr/clean/2.0.1/e7245f262bb418c1a5c67d67e00297322b1ad19eb65223676b790aa8003449e4/cache-5bdfcef0389777d3.arrow\n"
          ],
          "name": "stderr"
        }
      ]
    },
    {
      "cell_type": "markdown",
      "metadata": {
        "id": "gYlQkKVoRUos"
      },
      "source": [
        "## Training & Evaluation\n",
        "\n",
        "The data is processed so that we are ready to start setting up the training pipeline. We will make use of 🤗's [Trainer](https://huggingface.co/transformers/master/main_classes/trainer.html?highlight=trainer) for which we essentially need to do the following:\n",
        "\n",
        "- Define a data collator. In contrast to most NLP models, Wav2Vec2 has a much larger input length than output length. *E.g.*, a sample of input length 50000 has an output length of no more than 100. Given the large input sizes, it is much more efficient to pad the training batches dynamically meaning that all training samples should only be padded to the longest sample in their batch and not the overall longest sample. Therefore, fine-tuning Wav2Vec2 requires a special padding data collator, which we will define below\n",
        "\n",
        "- Evaluation metric. During training, the model should be evaluated on the word error rate. We should define a `compute_metrics` function accordingly\n",
        "\n",
        "- Load a pretrained checkpoint. We need to load a pretrained checkpoint and configure it correctly for training.\n",
        "\n",
        "- Define the training configuration.\n",
        "\n",
        "After having fine-tuned the model, we will correctly evaluate it on the test data and verify that it has indeed learned to correctly transcribe speech."
      ]
    },
    {
      "cell_type": "markdown",
      "metadata": {
        "id": "Slk403unUS91"
      },
      "source": [
        "### Set-up Trainer\n",
        "\n",
        "Let's start by defining the data collator. The code for the data collator was copied from [this example](https://github.com/huggingface/transformers/blob/9a06b6b11bdfc42eea08fa91d0c737d1863c99e3/examples/research_projects/wav2vec2/run_asr.py#L81).\n",
        "\n",
        "Without going into too many details, in contrast to the common data collators, this data collator treats the `input_values` and `labels` differently and thus applies to separate padding functions on them (again making use of Wav2Vec2's context manager). This is necessary because in speech input and output are of different modalities meaning that they should not be treated by the same padding function.\n",
        "Analogous to the common data collators, the padding tokens in the labels with `-100` so that those tokens are **not** taken into account when computing the loss."
      ]
    },
    {
      "cell_type": "code",
      "metadata": {
        "id": "tborvC9hx88e"
      },
      "source": [
        "import torch\n",
        "\n",
        "from dataclasses import dataclass, field\n",
        "from typing import Any, Dict, List, Optional, Union\n",
        "\n",
        "@dataclass\n",
        "class DataCollatorCTCWithPadding:\n",
        "    \"\"\"\n",
        "    Data collator that will dynamically pad the inputs received.\n",
        "    Args:\n",
        "        processor (:class:`~transformers.Wav2Vec2Processor`)\n",
        "            The processor used for proccessing the data.\n",
        "        padding (:obj:`bool`, :obj:`str` or :class:`~transformers.tokenization_utils_base.PaddingStrategy`, `optional`, defaults to :obj:`True`):\n",
        "            Select a strategy to pad the returned sequences (according to the model's padding side and padding index)\n",
        "            among:\n",
        "            * :obj:`True` or :obj:`'longest'`: Pad to the longest sequence in the batch (or no padding if only a single\n",
        "              sequence if provided).\n",
        "            * :obj:`'max_length'`: Pad to a maximum length specified with the argument :obj:`max_length` or to the\n",
        "              maximum acceptable input length for the model if that argument is not provided.\n",
        "            * :obj:`False` or :obj:`'do_not_pad'` (default): No padding (i.e., can output a batch with sequences of\n",
        "              different lengths).\n",
        "        max_length (:obj:`int`, `optional`):\n",
        "            Maximum length of the ``input_values`` of the returned list and optionally padding length (see above).\n",
        "        max_length_labels (:obj:`int`, `optional`):\n",
        "            Maximum length of the ``labels`` returned list and optionally padding length (see above).\n",
        "        pad_to_multiple_of (:obj:`int`, `optional`):\n",
        "            If set will pad the sequence to a multiple of the provided value.\n",
        "            This is especially useful to enable the use of Tensor Cores on NVIDIA hardware with compute capability >=\n",
        "            7.5 (Volta).\n",
        "    \"\"\"\n",
        "\n",
        "    processor: Wav2Vec2Processor\n",
        "    padding: Union[bool, str] = True\n",
        "    max_length: Optional[int] = None\n",
        "    max_length_labels: Optional[int] = None\n",
        "    pad_to_multiple_of: Optional[int] = None\n",
        "    pad_to_multiple_of_labels: Optional[int] = None\n",
        "\n",
        "    def __call__(self, features: List[Dict[str, Union[List[int], torch.Tensor]]]) -> Dict[str, torch.Tensor]:\n",
        "        # split inputs and labels since they have to be of different lengths and need\n",
        "        # different padding methods\n",
        "        input_features = [{\"input_values\": feature[\"input_values\"]} for feature in features]\n",
        "        label_features = [{\"input_ids\": feature[\"labels\"]} for feature in features]\n",
        "\n",
        "        batch = self.processor.pad(\n",
        "            input_features,\n",
        "            padding=self.padding,\n",
        "            max_length=self.max_length,\n",
        "            pad_to_multiple_of=self.pad_to_multiple_of,\n",
        "            return_tensors=\"pt\",\n",
        "        )\n",
        "        with self.processor.as_target_processor():\n",
        "            labels_batch = self.processor.pad(\n",
        "                label_features,\n",
        "                padding=self.padding,\n",
        "                max_length=self.max_length_labels,\n",
        "                pad_to_multiple_of=self.pad_to_multiple_of_labels,\n",
        "                return_tensors=\"pt\",\n",
        "            )\n",
        "\n",
        "        # replace padding with -100 to ignore loss correctly\n",
        "        labels = labels_batch[\"input_ids\"].masked_fill(labels_batch.attention_mask.ne(1), -100)\n",
        "\n",
        "        batch[\"labels\"] = labels\n",
        "\n",
        "        return batch"
      ],
      "execution_count": null,
      "outputs": []
    },
    {
      "cell_type": "code",
      "metadata": {
        "id": "lbQf5GuZyQ4_"
      },
      "source": [
        "data_collator = DataCollatorCTCWithPadding(processor=processor, padding=True)"
      ],
      "execution_count": null,
      "outputs": []
    },
    {
      "cell_type": "markdown",
      "metadata": {
        "id": "xO-Zdj-5cxXp"
      },
      "source": [
        "Next, the evaluation metric is defined. As mentioned earlier, the \n",
        "predominant metric in ASR is the word error rate (WER), hence we will use it in this notebook as well."
      ]
    },
    {
      "cell_type": "code",
      "metadata": {
        "id": "9Xsux2gmyXso"
      },
      "source": [
        "wer_metric = load_metric(\"wer\")"
      ],
      "execution_count": null,
      "outputs": []
    },
    {
      "cell_type": "markdown",
      "metadata": {
        "id": "E1qZU5p-deqB"
      },
      "source": [
        "The model will return a sequence of logit vectors:\n",
        "$\\mathbf{y}_1, \\ldots, \\mathbf{y}_m$ with $\\mathbf{y}_1 = f_{\\theta}(x_1, \\ldots, x_n)[0]$ and $n >> m$.\n",
        "\n",
        "A logit vector $\\mathbf{y}_1$ contains the log-odds for each word in the vocabulary we defined earlier, thus $\\text{len}(\\mathbf{y}_i) =$ `config.vocab_size`. We are interested in the most likely prediction of the model and thus take the `argmax(...)` of the logits. Also, we transform the encoded labels back to the original string by replacing `-100` with the `pad_token_id` and decoding the ids while making sure that consecutive tokens are **not** grouped to the same token in CTC style ${}^1$."
      ]
    },
    {
      "cell_type": "code",
      "metadata": {
        "id": "1XZ-kjweyTy_"
      },
      "source": [
        "def compute_metrics(pred):\n",
        "    pred_logits = pred.predictions\n",
        "    pred_ids = np.argmax(pred_logits, axis=-1)\n",
        "\n",
        "    pred.label_ids[pred.label_ids == -100] = processor.tokenizer.pad_token_id\n",
        "\n",
        "    pred_str = processor.batch_decode(pred_ids)\n",
        "    # we do not want to group tokens when computing the metrics\n",
        "    label_str = processor.batch_decode(pred.label_ids, group_tokens=False)\n",
        "\n",
        "    wer = wer_metric.compute(predictions=pred_str, references=label_str)\n",
        "\n",
        "    return {\"wer\": wer}"
      ],
      "execution_count": null,
      "outputs": []
    },
    {
      "cell_type": "markdown",
      "metadata": {
        "id": "Xmgrx4bRwLIH"
      },
      "source": [
        "Now, we can load the pretrained `Wav2Vec2` checkpoint. The tokenizer's `pad_token_id` must be to define the model's `pad_token_id` or in the case of `Wav2Vec2ForCTC` also CTC's *blank token* ${}^2$. To save GPU memory, we enable PyTorch's [gradient checkpointing](https://pytorch.org/docs/stable/checkpoint.html) and also set the loss reduction to \"*mean*\"."
      ]
    },
    {
      "cell_type": "code",
      "metadata": {
        "colab": {
          "base_uri": "https://localhost:8080/"
        },
        "id": "e7cqAWIayn6w",
        "outputId": "058979ad-ca6b-483c-9c71-b14584099f70"
      },
      "source": [
        "from transformers import Wav2Vec2ForCTC\n",
        "\n",
        "model = Wav2Vec2ForCTC.from_pretrained(\n",
        "    \"facebook/wav2vec2-base\", \n",
        "    gradient_checkpointing=True, \n",
        "    ctc_loss_reduction=\"mean\", \n",
        "    pad_token_id=processor.tokenizer.pad_token_id,\n",
        ")"
      ],
      "execution_count": null,
      "outputs": [
        {
          "output_type": "stream",
          "text": [
            "Some weights of Wav2Vec2ForCTC were not initialized from the model checkpoint at facebook/wav2vec2-base and are newly initialized: ['lm_head.weight', 'lm_head.bias']\n",
            "You should probably TRAIN this model on a down-stream task to be able to use it for predictions and inference.\n"
          ],
          "name": "stderr"
        }
      ]
    },
    {
      "cell_type": "markdown",
      "metadata": {
        "id": "1DwR3XLSzGDD"
      },
      "source": [
        "The first component of Wav2Vec2 consists of a stack of CNN layers that are used to extract acoustically meaningful - but contextually independent - features from the raw speech signal. This part of the model has already been sufficiently trained during pretrainind and as stated in the [paper](https://arxiv.org/abs/2006.11477) does not need to be fine-tuned anymore. \n",
        "Thus, we can set the `requires_grad` to `False` for all parameters of the *feature extraction* part."
      ]
    },
    {
      "cell_type": "code",
      "metadata": {
        "id": "oGI8zObtZ3V0"
      },
      "source": [
        "model.freeze_feature_extractor()"
      ],
      "execution_count": null,
      "outputs": []
    },
    {
      "cell_type": "markdown",
      "metadata": {
        "id": "lD4aGhQM0K-D"
      },
      "source": [
        "In a final step, we define all parameters related to training. \n",
        "To give more explanation on some of the parameters:\n",
        "- `group_by_length` makes training more efficient by grouping training samples of similar input length into one batch. This can significantly speed up training time by heavily reducing the overall number of useless padding tokens that are passed through the model\n",
        "- `learning_rate` and `weight_decay` were heuristically tuned until fine-tuning has become stable. Note that those parameters strongly depend on the Timit dataset and might be suboptimal for other speech datasets.\n",
        "\n",
        "For more explanations on other parameters, one can take a look at the [docs](https://huggingface.co/transformers/master/main_classes/trainer.html?highlight=trainer#trainingarguments).\n",
        "\n",
        "**Note**: If one wants to save the trained models in his/her google drive the commented-out `output_dir` can be used instead."
      ]
    },
    {
      "cell_type": "code",
      "metadata": {
        "id": "KbeKSV7uzGPP"
      },
      "source": [
        "from transformers import TrainingArguments\n",
        "\n",
        "training_args = TrainingArguments(\n",
        "  # output_dir=\"/content/gdrive/MyDrive/wav2vec2-base-timit-demo\",\n",
        "  output_dir=\"./wav2vec2-base-timit-demo\",\n",
        "  group_by_length=True,\n",
        "  per_device_train_batch_size=32,\n",
        "  evaluation_strategy=\"steps\",\n",
        "  num_train_epochs=30,\n",
        "  fp16=True,\n",
        "  save_steps=500,\n",
        "  eval_steps=500,\n",
        "  logging_steps=500,\n",
        "  learning_rate=1e-4,\n",
        "  weight_decay=0.005,\n",
        "  warmup_steps=1000,\n",
        "  save_total_limit=2,\n",
        ")"
      ],
      "execution_count": null,
      "outputs": []
    },
    {
      "cell_type": "markdown",
      "metadata": {
        "id": "OsW-WZcL1ZtN"
      },
      "source": [
        "Now, all instances can be passed to Trainer and we are ready to start training!"
      ]
    },
    {
      "cell_type": "code",
      "metadata": {
        "id": "rY7vBmFCPFgC"
      },
      "source": [
        "from transformers import Trainer\n",
        "\n",
        "trainer = Trainer(\n",
        "    model=model,\n",
        "    data_collator=data_collator,\n",
        "    args=training_args,\n",
        "    compute_metrics=compute_metrics,\n",
        "    train_dataset=timit_prepared[\"train\"],\n",
        "    eval_dataset=timit_prepared[\"test\"],\n",
        "    tokenizer=processor.feature_extractor,\n",
        ")"
      ],
      "execution_count": null,
      "outputs": []
    },
    {
      "cell_type": "markdown",
      "metadata": {
        "id": "UoXBx1JAA0DX"
      },
      "source": [
        "\n",
        "\n",
        "---\n",
        "\n",
        "${}^1$ To allow models to become independent of the speaker rate, in CTC, consecutive tokens that are identical are simply grouped as a single token. However, the encoded labels should not be grouped when decoding since they don't correspond to the predicted tokens of the model, which is why the `group_tokens=False` parameter has to be passed. If we wouldn't pass this parameter a word like `\"hello\"` would incorrectly be encoded, and decoded as `\"helo\"`.\n",
        "\n",
        "${}^2$ The blank token allows the model to predict a word, such as `\"hello\"` by forcing it to insert the blank token between the two l's. A CTC-conform prediction of `\"hello\"` of our model would be `[PAD] [PAD] \"h\" \"e\" \"e\" \"l\" \"l\" [PAD] \"l\" \"o\" \"o\" [PAD]`."
      ]
    },
    {
      "cell_type": "markdown",
      "metadata": {
        "id": "rpvZHM1xReIW"
      },
      "source": [
        "### Training"
      ]
    },
    {
      "cell_type": "markdown",
      "metadata": {
        "id": "j-3oKSzZ1hGq"
      },
      "source": [
        "Training will take between 90 and 180 minutes depending on the GPU allocated to this notebook. While the trained model yields satisfying results on *Timit*'s test data, it is by no means an optimally fine-tuned model. The purpose of this notebook is to demonstrate how Wav2Vec2's [base](https://huggingface.co/facebook/wav2vec2-base), [large](https://huggingface.co/facebook/wav2vec2-large), and [large-lv60](https://huggingface.co/facebook/wav2vec2-large-lv60) checkpoints can be fine-tuned on any English dataset.\n",
        "\n",
        "In case you want to use this google colab to fine-tune your model, you should make sure that your training doesn't stop due to inactivity. A simple hack to prevent this is to paste the following code into the console of this tab (*right mouse click -> inspect -> Console tab and insert code*)."
      ]
    },
    {
      "cell_type": "markdown",
      "metadata": {
        "id": "VYYAvgkW4P0m"
      },
      "source": [
        "```javascript\n",
        "function ConnectButton(){\n",
        "    console.log(\"Connect pushed\"); \n",
        "    document.querySelector(\"#top-toolbar > colab-connect-button\").shadowRoot.querySelector(\"#connect\").click() \n",
        "}\n",
        "setInterval(ConnectButton,60000);\n",
        "```"
      ]
    },
    {
      "cell_type": "code",
      "metadata": {
        "colab": {
          "base_uri": "https://localhost:8080/",
          "height": 397
        },
        "id": "_UEjJqGsQw24",
        "outputId": "adc5a597-7f5a-403d-b061-f8701a237f48"
      },
      "source": [
        "trainer.train()"
      ],
      "execution_count": null,
      "outputs": [
        {
          "output_type": "stream",
          "text": [
            "/usr/local/lib/python3.7/dist-packages/torch/optim/lr_scheduler.py:134: UserWarning: Detected call of `lr_scheduler.step()` before `optimizer.step()`. In PyTorch 1.1.0 and later, you should call them in the opposite order: `optimizer.step()` before `lr_scheduler.step()`.  Failure to do this will result in PyTorch skipping the first value of the learning rate schedule. See more details at https://pytorch.org/docs/stable/optim.html#how-to-adjust-learning-rate\n",
            "  \"https://pytorch.org/docs/stable/optim.html#how-to-adjust-learning-rate\", UserWarning)\n"
          ],
          "name": "stderr"
        },
        {
          "output_type": "display_data",
          "data": {
            "text/html": [
              "\n",
              "    <div>\n",
              "        <style>\n",
              "            /* Turns off some styling */\n",
              "            progress {\n",
              "                /* gets rid of default border in Firefox and Opera. */\n",
              "                border: none;\n",
              "                /* Needs to be in here for Safari polyfill so background images work as expected. */\n",
              "                background-size: auto;\n",
              "            }\n",
              "        </style>\n",
              "      \n",
              "      <progress value='4350' max='4350' style='width:300px; height:20px; vertical-align: middle;'></progress>\n",
              "      [4350/4350 2:38:49, Epoch 30/30]\n",
              "    </div>\n",
              "    <table border=\"1\" class=\"dataframe\">\n",
              "  <thead>\n",
              "    <tr style=\"text-align: left;\">\n",
              "      <th>Step</th>\n",
              "      <th>Training Loss</th>\n",
              "      <th>Validation Loss</th>\n",
              "      <th>Wer</th>\n",
              "      <th>Runtime</th>\n",
              "      <th>Samples Per Second</th>\n",
              "    </tr>\n",
              "  </thead>\n",
              "  <tbody>\n",
              "    <tr>\n",
              "      <td>500</td>\n",
              "      <td>3.758100</td>\n",
              "      <td>1.686157</td>\n",
              "      <td>0.945214</td>\n",
              "      <td>97.299000</td>\n",
              "      <td>17.266000</td>\n",
              "    </tr>\n",
              "    <tr>\n",
              "      <td>1000</td>\n",
              "      <td>0.691400</td>\n",
              "      <td>0.476487</td>\n",
              "      <td>0.391427</td>\n",
              "      <td>98.283300</td>\n",
              "      <td>17.093000</td>\n",
              "    </tr>\n",
              "    <tr>\n",
              "      <td>1500</td>\n",
              "      <td>0.202400</td>\n",
              "      <td>0.403425</td>\n",
              "      <td>0.330715</td>\n",
              "      <td>99.078100</td>\n",
              "      <td>16.956000</td>\n",
              "    </tr>\n",
              "    <tr>\n",
              "      <td>2000</td>\n",
              "      <td>0.115200</td>\n",
              "      <td>0.405025</td>\n",
              "      <td>0.307353</td>\n",
              "      <td>98.116500</td>\n",
              "      <td>17.122000</td>\n",
              "    </tr>\n",
              "    <tr>\n",
              "      <td>2500</td>\n",
              "      <td>0.075000</td>\n",
              "      <td>0.428119</td>\n",
              "      <td>0.294053</td>\n",
              "      <td>98.496500</td>\n",
              "      <td>17.056000</td>\n",
              "    </tr>\n",
              "    <tr>\n",
              "      <td>3000</td>\n",
              "      <td>0.058200</td>\n",
              "      <td>0.442629</td>\n",
              "      <td>0.287299</td>\n",
              "      <td>98.871300</td>\n",
              "      <td>16.992000</td>\n",
              "    </tr>\n",
              "    <tr>\n",
              "      <td>3500</td>\n",
              "      <td>0.047600</td>\n",
              "      <td>0.442619</td>\n",
              "      <td>0.285783</td>\n",
              "      <td>99.477500</td>\n",
              "      <td>16.888000</td>\n",
              "    </tr>\n",
              "    <tr>\n",
              "      <td>4000</td>\n",
              "      <td>0.034500</td>\n",
              "      <td>0.456989</td>\n",
              "      <td>0.282200</td>\n",
              "      <td>99.419100</td>\n",
              "      <td>16.898000</td>\n",
              "    </tr>\n",
              "  </tbody>\n",
              "</table><p>"
            ],
            "text/plain": [
              "<IPython.core.display.HTML object>"
            ]
          },
          "metadata": {
            "tags": []
          }
        },
        {
          "output_type": "execute_result",
          "data": {
            "text/plain": [
              "TrainOutput(global_step=4350, training_loss=0.5751241477878615, metrics={'train_runtime': 9534.5388, 'train_samples_per_second': 0.456, 'total_flos': 3.9858324576556134e+18, 'epoch': 30.0, 'init_mem_cpu_alloc_delta': 3558692, 'init_mem_gpu_alloc_delta': 380411904, 'init_mem_cpu_peaked_delta': 1617802440, 'init_mem_gpu_peaked_delta': 1511819264, 'train_mem_cpu_alloc_delta': 1357361, 'train_mem_gpu_alloc_delta': 1114656768, 'train_mem_cpu_peaked_delta': 126764054, 'train_mem_gpu_peaked_delta': 4098725376})"
            ]
          },
          "metadata": {
            "tags": []
          },
          "execution_count": 168
        }
      ]
    },
    {
      "cell_type": "markdown",
      "metadata": {
        "id": "UCyp-v3n4Zlt"
      },
      "source": [
        "The final WER should be below 0.3 which is reasonable given that state-of-the-art phoneme error rates (PER) are just below 0.1 (see [leaderboard](https://paperswithcode.com/sota/speech-recognition-on-timit)) and that WER is usually worse than PER.\n",
        "\n",
        "The resulting model of this notebook has been saved to [patrickvonplaten/wav2vec2-base-timit-demo](https://huggingface.co/patrickvonplaten/wav2vec2-base-timit-demo)."
      ]
    },
    {
      "cell_type": "markdown",
      "metadata": {
        "id": "nD4XP5IHncsY"
      },
      "source": [
        "### Evaluate\n",
        "\n",
        "In the final part, we evaluate our fine-tuned model on the test set and play around with it a bit.\n",
        "\n",
        "Let's load the `processor` and `model`."
      ]
    },
    {
      "cell_type": "code",
      "metadata": {
        "id": "-rg0USDCnbo6",
        "colab": {
          "base_uri": "https://localhost:8080/"
        },
        "outputId": "8a60c4a5-c57e-43e7-be3f-482a94471488"
      },
      "source": [
        "processor = Wav2Vec2Processor.from_pretrained(\"patrickvonplaten/wav2vec2-base-timit-demo\")"
      ],
      "execution_count": null,
      "outputs": [
        {
          "output_type": "stream",
          "text": [
            "Special tokens have been added in the vocabulary, make sure the associated word embedding are fine-tuned or trained.\n"
          ],
          "name": "stderr"
        }
      ]
    },
    {
      "cell_type": "code",
      "metadata": {
        "id": "sSpFW3pDn23P"
      },
      "source": [
        "model = Wav2Vec2ForCTC.from_pretrained(\"patrickvonplaten/wav2vec2-base-timit-demo\")"
      ],
      "execution_count": null,
      "outputs": []
    },
    {
      "cell_type": "markdown",
      "metadata": {
        "id": "TUuZpB0v5jn_"
      },
      "source": [
        "Now, we will make use of the `map(...)` function to predict the transcription of every test sample and to save the prediction in the dataset itself. We will call the resulting dictionary `\"results\"`. \n",
        "\n",
        "**Note**: we evaluate the test data set with `batch_size=1` on purpose due to this [issue](https://github.com/pytorch/fairseq/issues/3227). Since padded inputs don't yield the exact same output as non-padded inputs, a better WER can be achieved by not padding the input at all."
      ]
    },
    {
      "cell_type": "code",
      "metadata": {
        "id": "40naJl53n7jT"
      },
      "source": [
        "def map_to_result(batch):\n",
        "  model.to(\"cuda\")\n",
        "  input_values = processor(\n",
        "      batch[\"speech\"], \n",
        "      sampling_rate=batch[\"sampling_rate\"], \n",
        "      return_tensors=\"pt\"\n",
        "  ).input_values.to(\"cuda\")\n",
        "\n",
        "  with torch.no_grad():\n",
        "    logits = model(input_values).logits\n",
        "\n",
        "  pred_ids = torch.argmax(logits, dim=-1)\n",
        "  batch[\"pred_str\"] = processor.batch_decode(pred_ids)[0]\n",
        "  \n",
        "  return batch"
      ],
      "execution_count": null,
      "outputs": []
    },
    {
      "cell_type": "code",
      "metadata": {
        "id": "uPqH7gZqrGPi",
        "colab": {
          "base_uri": "https://localhost:8080/",
          "height": 67,
          "referenced_widgets": [
            "44668393974b4a63ad82be76f0590f4c",
            "9060eb779ab8498bae00e6d96565a294",
            "b95a7aee13244ddea0abefe5618195ad",
            "f0484d53c00e4aa19cb7e6520c9ca75d",
            "db5d8dfcdd004ac0bbb5142725da4f50",
            "41a42b64f5e34cbaa0bab1fc8f620192",
            "3c98308d5b424de79df93434da63912c",
            "8ea5fb339ee24d2289d3edc0977b08e9"
          ]
        },
        "outputId": "021bbd87-00ba-47fe-a7fb-a0924cc8724b"
      },
      "source": [
        "results = timit[\"test\"].map(map_to_result)"
      ],
      "execution_count": null,
      "outputs": [
        {
          "output_type": "display_data",
          "data": {
            "application/vnd.jupyter.widget-view+json": {
              "model_id": "44668393974b4a63ad82be76f0590f4c",
              "version_minor": 0,
              "version_major": 2
            },
            "text/plain": [
              "HBox(children=(FloatProgress(value=0.0, max=1680.0), HTML(value='')))"
            ]
          },
          "metadata": {
            "tags": []
          }
        },
        {
          "output_type": "stream",
          "text": [
            "\n"
          ],
          "name": "stdout"
        }
      ]
    },
    {
      "cell_type": "markdown",
      "metadata": {
        "id": "-mqpdB8R6rty"
      },
      "source": [
        "Let's compute the overall WER now."
      ]
    },
    {
      "cell_type": "code",
      "metadata": {
        "id": "PmqAb4Isx8OK",
        "colab": {
          "base_uri": "https://localhost:8080/"
        },
        "outputId": "a081a8a2-e59f-4054-d057-0e28dad9a6c2"
      },
      "source": [
        "print(\"Test WER: {:.3f}\".format(wer_metric.compute(predictions=results[\"pred_str\"], references=results[\"target_text\"])))"
      ],
      "execution_count": null,
      "outputs": [
        {
          "output_type": "stream",
          "text": [
            "Test WER: 0.186\n"
          ],
          "name": "stdout"
        }
      ]
    },
    {
      "cell_type": "markdown",
      "metadata": {
        "id": "6Va94d8Y7Q98"
      },
      "source": [
        "18.6% WER - not bad! Our model would have surely made the top 20 on the official [leaderboard](https://paperswithcode.com/sota/speech-recognition-on-timit).\n",
        "\n",
        "Let's take a look at some predictions to see what errors are made by the model."
      ]
    },
    {
      "cell_type": "code",
      "metadata": {
        "id": "odNDiFVRy53w",
        "colab": {
          "base_uri": "https://localhost:8080/"
        },
        "outputId": "05b21744-7e3b-49a3-e801-487fff92dd1a"
      },
      "source": [
        "show_random_elements(results.remove_columns([\"speech\", \"sampling_rate\"]))"
      ],
      "execution_count": null,
      "outputs": [
        {
          "output_type": "display_data",
          "data": {
            "text/html": [
              "<table border=\"1\" class=\"dataframe\">\n",
              "  <thead>\n",
              "    <tr style=\"text-align: right;\">\n",
              "      <th></th>\n",
              "      <th>pred_str</th>\n",
              "      <th>target_text</th>\n",
              "    </tr>\n",
              "  </thead>\n",
              "  <tbody>\n",
              "    <tr>\n",
              "      <th>0</th>\n",
              "      <td>am to balence your employe you benefits package</td>\n",
              "      <td>aim to balance your employee benefit package</td>\n",
              "    </tr>\n",
              "    <tr>\n",
              "      <th>1</th>\n",
              "      <td>the fawlg prevented them from ariving on tom</td>\n",
              "      <td>the fog prevented them from arriving on time</td>\n",
              "    </tr>\n",
              "    <tr>\n",
              "      <th>2</th>\n",
              "      <td>young children should avoide exposure to contagieous diseases</td>\n",
              "      <td>young children should avoid exposure to contagious diseases</td>\n",
              "    </tr>\n",
              "    <tr>\n",
              "      <th>3</th>\n",
              "      <td>artifficial intelligence is for real</td>\n",
              "      <td>artificial intelligence is for real</td>\n",
              "    </tr>\n",
              "    <tr>\n",
              "      <th>4</th>\n",
              "      <td>their pcrops were two step latters a chair and a polmb fan</td>\n",
              "      <td>their props were two stepladders a chair and a palm fan</td>\n",
              "    </tr>\n",
              "    <tr>\n",
              "      <th>5</th>\n",
              "      <td>if people were more generous there would be no need for wealfare</td>\n",
              "      <td>if people were more generous there would be no need for welfare</td>\n",
              "    </tr>\n",
              "    <tr>\n",
              "      <th>6</th>\n",
              "      <td>the fish began to leep frantically on the surface of the small ac</td>\n",
              "      <td>the fish began to leap frantically on the surface of the small lake</td>\n",
              "    </tr>\n",
              "    <tr>\n",
              "      <th>7</th>\n",
              "      <td>her right hand eggs whenever the barametric pressur changes</td>\n",
              "      <td>her right hand aches whenever the barometric pressure changes</td>\n",
              "    </tr>\n",
              "    <tr>\n",
              "      <th>8</th>\n",
              "      <td>only lawyers loved miliunears</td>\n",
              "      <td>only lawyers love millionaires</td>\n",
              "    </tr>\n",
              "    <tr>\n",
              "      <th>9</th>\n",
              "      <td>the nearest cennagade may not be within wallkin distance</td>\n",
              "      <td>the nearest synagogue may not be within walking distance</td>\n",
              "    </tr>\n",
              "  </tbody>\n",
              "</table>"
            ],
            "text/plain": [
              "<IPython.core.display.HTML object>"
            ]
          },
          "metadata": {
            "tags": []
          }
        }
      ]
    },
    {
      "cell_type": "markdown",
      "metadata": {
        "id": "5HFCujhd9n4N"
      },
      "source": [
        "It becomes clear that the predicted transcriptions are acoustically very similar to the target transcriptions, but often contain spelling or grammatical errors. This shouldn't be very surprising though given that we purely rely on Wav2Vec2 without making use of a language model."
      ]
    },
    {
      "cell_type": "markdown",
      "metadata": {
        "id": "a3ydKvUl9FTK"
      },
      "source": [
        "Finally, to better understand how CTC works, it is worth taking a deeper look at the exact output of the model. Let's run the first test sample through the model, take the predicted ids and convert them to their corresponding tokens."
      ]
    },
    {
      "cell_type": "code",
      "metadata": {
        "colab": {
          "base_uri": "https://localhost:8080/",
          "height": 71
        },
        "id": "AqaM45t87uM4",
        "outputId": "43695fa3-12d3-4de9-a5fe-c946dd0a05b0"
      },
      "source": [
        "model.to(\"cuda\")\n",
        "input_values = processor(timit[\"test\"][0][\"speech\"], sampling_rate=timit[\"test\"][0][\"sampling_rate\"], return_tensors=\"pt\").input_values.to(\"cuda\")\n",
        "\n",
        "with torch.no_grad():\n",
        "  logits = model(input_values).logits\n",
        "\n",
        "pred_ids = torch.argmax(logits, dim=-1)\n",
        "\n",
        "# convert ids to tokens\n",
        "\" \".join(processor.tokenizer.convert_ids_to_tokens(pred_ids[0].tolist()))"
      ],
      "execution_count": null,
      "outputs": [
        {
          "output_type": "execute_result",
          "data": {
            "application/vnd.google.colaboratory.intrinsic+json": {
              "type": "string"
            },
            "text/plain": [
              "'[PAD] [PAD] [PAD] [PAD] [PAD] [PAD] t t h e e | | b b [PAD] u u n n n g g [PAD] a [PAD] [PAD] l l [PAD] o o o [PAD] | w w a a [PAD] s s | | [PAD] [PAD] p l l e e [PAD] [PAD] s s e n n t t t [PAD] l l y y | | | s s [PAD] i i [PAD] t t t [PAD] u u u u [PAD] [PAD] [PAD] a a [PAD] t t e e e d d d | n n e e a a a r | | t h h e | | s s h h h [PAD] o o o [PAD] o o r r [PAD] [PAD] [PAD] [PAD] [PAD] [PAD] [PAD] [PAD] [PAD] [PAD] [PAD]'"
            ]
          },
          "metadata": {
            "tags": []
          },
          "execution_count": 175
        }
      ]
    },
    {
      "cell_type": "markdown",
      "metadata": {
        "id": "tdO8E28g-n5C"
      },
      "source": [
        "The output should make it a bit clearer how CTC works in practice. The model is to some extent invariant to speaking rate since it has learned to either just repeat the same token in case the speech chunk to be classified still corresponds to the same token. This makes CTC a very powerful algorithm for speech recognition since the speech file's transcription is often very much independent of its length.\n",
        "\n",
        "I again advise the reader to take a look at [this](https://distill.pub/2017/ctc) very nice blog post to better understand CTC."
      ]
    }
  ]
}